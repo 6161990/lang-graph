{
 "cells": [
  {
   "cell_type": "code",
   "id": "initial_id",
   "metadata": {
    "collapsed": true,
    "ExecuteTime": {
     "end_time": "2025-03-02T05:33:23.300528Z",
     "start_time": "2025-03-02T05:33:23.291800Z"
    }
   },
   "source": [
    "# API KEY를 환경변수로 관리하기 위한 설정 파일\n",
    "from dotenv import load_dotenv\n",
    "\n",
    "# API KEY 정보로드\n",
    "load_dotenv()"
   ],
   "outputs": [
    {
     "data": {
      "text/plain": [
       "True"
      ]
     },
     "execution_count": 64,
     "metadata": {},
     "output_type": "execute_result"
    }
   ],
   "execution_count": 64
  },
  {
   "metadata": {},
   "cell_type": "code",
   "source": [
    "# LCEL for chain\n",
    "from langchain_core.output_parsers import StrOutputParser\n",
    "from langchain_core.prompts import ChatPromptTemplate\n",
    "from langchain_openai import ChatOpenAI\n",
    "\n",
    "prompt = ChatPromptTemplate.from_template(\"tell me a short joke about {topic}\")\n",
    "\n",
    "model = ChatOpenAI(\n",
    "    model=\"gpt-4o-mini\"\n",
    ")\n",
    "\n",
    "# StrOutputParser() ai 의 응답을 내용만 봅아서 볼 수 있음. 원래는 메타 데이터도 포함됨.\n",
    "chain = prompt | model | StrOutputParser()\n",
    "\n",
    "print(f\"[답변]: {chain.invoke({'topic': 'ice cream'})}\")\n",
    "\n"
   ],
   "id": "2f102da50882e71e",
   "outputs": [],
   "execution_count": null
  },
  {
   "metadata": {},
   "cell_type": "code",
   "source": [
    "# chain 의 stream 기능 써보기\n",
    "model = ChatOpenAI(\n",
    "    model=\"gpt-4o-mini\"\n",
    ")\n",
    "\n",
    "prompt = ChatPromptTemplate.from_template(\"tell me a short joke about {topic}\")\n",
    "\n",
    "chain = prompt | model\n",
    "\n",
    "for s in chain.stream({\"topic\": \"ice cream\"}):\n",
    "    print(s.content, end=\"\", flush=True)"
   ],
   "id": "7a35f55b517330ba",
   "outputs": [],
   "execution_count": null
  },
  {
   "metadata": {},
   "cell_type": "markdown",
   "source": [
    "\n",
    "Stream 사용 이유\n",
    "* 빠른 응답 제공: 전체 응답이 생성될 때까지 기다릴 필요 없이, 한 토큰씩 받아볼 수 있음.\n",
    "* 실시간 처리 가능: UI에서 점진적으로 텍스트를 표시하거나, 스트림 데이터를 다른 곳에서 활용할 수 있음.\n",
    "* 메모리 효율성: 한 번에 모든 데이터를 로드하지 않기 때문에 메모리 부담이 줄어듦."
   ],
   "id": "67eb4977cb6bbd4"
  },
  {
   "metadata": {},
   "cell_type": "code",
   "source": [
    "from langchain_core.messages import SystemMessage\n",
    "from langchain_core.prompts import ChatPromptTemplate, HumanMessagePromptTemplate\n",
    "\n",
    "chat_template = ChatPromptTemplate.from_messages(\n",
    "    [\n",
    "        SystemMessage(\n",
    "            content=(\n",
    "                \"너는 소설 전문가 AI야. 사용자가 원하는 장르의 영화를 리스트 형태로 추천해줘.\"\n",
    "                'ex(Query: 현대 문학 소설 5개 추천해줘 / 답변: [\"aa\", \"ee\", \"ee2\"]'\n",
    "            )\n",
    "        ),\n",
    "        HumanMessagePromptTemplate.from_template(\"{text}\"),\n",
    "    ]\n",
    ")\n",
    "\n",
    "model = ChatOpenAI(model=\"gpt-4o-mini\")\n",
    "chain = chat_template | model\n",
    "chain.invoke(\"사회\")"
   ],
   "id": "2c275514edc70ae6",
   "outputs": [],
   "execution_count": null
  },
  {
   "metadata": {
    "ExecuteTime": {
     "end_time": "2025-03-02T04:29:16.348926Z",
     "start_time": "2025-03-02T04:29:14.984960Z"
    }
   },
   "cell_type": "code",
   "source": [
    "# 부분적으로 프롬포트에 미리 넣어두고 싶은 부분이 있다면?\n",
    "from langchain_core.prompts import PromptTemplate\n",
    "from langchain.output_parsers import CommaSeparatedListOutputParser\n",
    "\n",
    "# parser 선언\n",
    "output_parser = CommaSeparatedListOutputParser()\n",
    "\n",
    "# csv 파서 작동을 위한 형식 지정 프롬프트 로드\n",
    "format_instructions = output_parser.get_format_instructions()\n",
    "\n",
    "# 프롬포트 템플릿의 partial_variables 에 csv 형식 지정 프롬포트 주입\n",
    "prompt = PromptTemplate(template=\"List {subject}. {format_instructions}\", input_variables=[\"subject\"],\n",
    "                          partial_variables={\"format_instructions\": format_instructions}, )\n",
    "\n",
    "model = ChatOpenAI(model=\"gpt-4o-mini\")\n",
    "chain = prompt | model | output_parser\n",
    "chain.invoke({\"subject\":\"한국 현대 문학\"})\n",
    "\n"
   ],
   "id": "b0280a066caadf6f",
   "outputs": [
    {
     "data": {
      "text/plain": [
       "['김소진', '한강', '김영하', '박완서', '이외수', '조선희', '박범신', '정유정', '신경숙', '최재붕']"
      ]
     },
     "execution_count": 13,
     "metadata": {},
     "output_type": "execute_result"
    }
   ],
   "execution_count": 13
  },
  {
   "metadata": {
    "ExecuteTime": {
     "end_time": "2025-03-02T04:28:42.760713Z",
     "start_time": "2025-03-02T04:28:41.930111Z"
    }
   },
   "cell_type": "code",
   "source": [
    "from pydantic import Field\n",
    "from langchain_core.output_parsers import JsonOutputParser\n",
    "from openai import BaseModel\n",
    "\n",
    "\n",
    "#jsonOutputParser\n",
    "\n",
    "class Country(BaseModel):\n",
    "    continent: str = Field(description=\"사용자가 물어본 나라가 속한 대륙\")\n",
    "    population: str = Field(description=\"사용자가 물어본 나라의 인구(int 형식)\")\n",
    "\n",
    "\n",
    "# JsonOutputParser 생성할 때 format_instructions 로 class 넘겨\n",
    "parser = JsonOutputParser(pydantic_object=Country)\n",
    "\n",
    "prompt = PromptTemplate(\n",
    "    template=\"Answer the user query. in korean. {format_instructions} {query}\",\n",
    "    input_variables=[\"query\"],\n",
    "    partial_variables={\"format_instructions\": parser.get_format_instructions()},\n",
    ")\n",
    "\n",
    "chain = prompt | model | parser\n",
    "\n",
    "country_query = \"태국은 어떤 나라야?\"\n",
    "chain.invoke({\"query\": country_query})\n"
   ],
   "id": "8a685296a559a5c5",
   "outputs": [
    {
     "data": {
      "text/plain": [
       "{'continent': '아시아', 'population': '70199978'}"
      ]
     },
     "execution_count": 10,
     "metadata": {},
     "output_type": "execute_result"
    }
   ],
   "execution_count": 10
  },
  {
   "metadata": {
    "ExecuteTime": {
     "end_time": "2025-03-02T04:46:54.735309Z",
     "start_time": "2025-03-02T04:46:54.005193Z"
    }
   },
   "cell_type": "code",
   "source": [
    "from langchain_core.runnables import RunnablePassthrough\n",
    "\n",
    "prompt = ChatPromptTemplate.from_template(\"\"\"다음 한글 문장을 프랑스어로 번역해줘 {sentence}\n",
    "French sentence: (print from here)\"\"\")\n",
    "\n",
    "model = ChatOpenAI(model=\"gpt-4o-mini\")\n",
    "parser = StrOutputParser()\n",
    "\n",
    "runnable_chain = {\"sentence\": RunnablePassthrough()} | prompt | model | parser\n",
    "runnable_chain.invoke({\"sentence\": \"윤지는 아무래도 짱이다.\"})"
   ],
   "id": "97b08e57c5ae502b",
   "outputs": [
    {
     "data": {
      "text/plain": [
       "'Yunjin est sans doute la meilleure.'"
      ]
     },
     "execution_count": 19,
     "metadata": {},
     "output_type": "execute_result"
    }
   ],
   "execution_count": 19
  },
  {
   "metadata": {
    "ExecuteTime": {
     "end_time": "2025-03-02T05:02:10.624919Z",
     "start_time": "2025-03-02T05:02:10.619653Z"
    }
   },
   "cell_type": "code",
   "source": [
    "def add_smile(x):\n",
    "    return x + \":)\""
   ],
   "id": "d34e4105c6eaa014",
   "outputs": [],
   "execution_count": 38
  },
  {
   "metadata": {
    "ExecuteTime": {
     "end_time": "2025-03-02T04:54:19.457034Z",
     "start_time": "2025-03-02T04:54:19.453672Z"
    }
   },
   "cell_type": "code",
   "source": [
    "from langchain_core.runnables import RunnableLambda\n",
    "\n",
    "add_smile = RunnableLambda(add_smile)"
   ],
   "id": "6509eaffb9329d1c",
   "outputs": [],
   "execution_count": 26
  },
  {
   "metadata": {
    "ExecuteTime": {
     "end_time": "2025-03-02T04:56:14.971105Z",
     "start_time": "2025-03-02T04:56:12.460587Z"
    }
   },
   "cell_type": "code",
   "source": [
    "prompt_str = \"{topic} 의 역사에 대해 세 문장으로 설명해주세요.\"\n",
    "prompt = ChatPromptTemplate.from_template(prompt_str)\n",
    "\n",
    "model = ChatOpenAI(model=\"gpt-4o-mini\")\n",
    "\n",
    "output_parser = StrOutputParser()\n",
    "\n",
    "chain = prompt | model | output_parser | add_smile\n",
    "chain.invoke({\"topic\": \"한국\"})"
   ],
   "id": "d8d8d1e64fc53b4e",
   "outputs": [
    {
     "data": {
      "text/plain": [
       "'한국의 역사는 고조선, 백제, 신라, 가야 등의 고대 왕국에서 시작되어 고려와 조선이라는 두 개의 수천 년 역사를 가진 왕조를 거쳐 현대에 이릅니다. 20세기 초 일본의 식민지 통치와 1945년 해방 후의 분단은 한국 역사에서 중요한 전환점이 되었으며, 한국 전쟁(1950-1953)은 남북 간의 갈등을 심화시켰습니다. 이후 한국은 급속한 경제 성장을 이루었으며, 민주화와 문화적 영향력을 세계적으로 확대해 나갔습니다.:)'"
      ]
     },
     "execution_count": 33,
     "metadata": {},
     "output_type": "execute_result"
    }
   ],
   "execution_count": 33
  },
  {
   "metadata": {
    "ExecuteTime": {
     "end_time": "2025-03-02T05:04:30.670885Z",
     "start_time": "2025-03-02T05:04:30.655846Z"
    }
   },
   "cell_type": "code",
   "source": [
    "from langchain_core.runnables import RunnableParallel\n",
    "\n",
    "runnable_parallel = RunnableParallel(\n",
    "    passed=RunnablePassthrough(),\n",
    "    modified=add_smile\n",
    ")\n",
    "\n",
    "runnable_parallel.invoke(\"하이하이\")"
   ],
   "id": "69bf9f1db27d3c96",
   "outputs": [
    {
     "data": {
      "text/plain": [
       "{'passed': '하이하이', 'modified': '하이하이:)'}"
      ]
     },
     "execution_count": 44,
     "metadata": {},
     "output_type": "execute_result"
    }
   ],
   "execution_count": 44
  },
  {
   "metadata": {
    "ExecuteTime": {
     "end_time": "2025-03-02T05:18:43.267624Z",
     "start_time": "2025-03-02T05:18:41.359704Z"
    }
   },
   "cell_type": "code",
   "source": [
    "from langchain_core.runnables import RunnableParallel\n",
    "from langchain_core.output_parsers import StrOutputParser\n",
    "from langchain_openai import ChatOpenAI\n",
    "from langchain_core.prompts import ChatPromptTemplate\n",
    "\n",
    "# prompt\n",
    "description_prompt = ChatPromptTemplate.from_template(\"{topic} 이 무엇을 뜻하는 약자입니까?\")\n",
    "celeb_prompt = ChatPromptTemplate.from_template(\"{topic} 와 관련된 유명인사는 누구입니까?\")\n",
    "# model\n",
    "model = ChatOpenAI(model=\"gpt-4o-mini\", max_tokens=128, temperature=0)\n",
    "# output_parser\n",
    "output_parser = StrOutputParser()\n",
    "\n",
    "description_chain = description_prompt | model | output_parser\n",
    "celeb_chain = celeb_prompt | model | output_parser\n",
    "\n",
    "map_chain = RunnableParallel(description = description_chain, celeb = celeb_chain)\n",
    "invoke= map_chain.invoke({\"topic\": \"AI\"})\n",
    "invoke\n"
   ],
   "id": "827c75e70d0626d8",
   "outputs": [
    {
     "data": {
      "text/plain": [
       "{'description': 'AI는 \"Artificial Intelligence\"의 약자로, 한국어로는 \"인공지능\"이라고 합니다. 인공지능은 컴퓨터 시스템이 인간의 지능을 모방하여 학습, 추론, 문제 해결 등의 작업을 수행할 수 있도록 하는 기술을 의미합니다.',\n",
       " 'celeb': 'AI와 관련된 유명인사들은 여러 분야에서 활동하고 있으며, 그 중 일부는 다음과 같습니다:\\n\\n1. **엘론 머스크 (Elon Musk)** - 테슬라와 스페이스X의 CEO로, AI의 발전에 대한 경고와 함께 OpenAI의 공동 창립자이기도 합니다.\\n\\n2. **제프리 힌튼 (Geoffrey Hinton)** - 딥러닝의 아버지로 불리며, 인공지능 분야에서 중요한 연구를 해온 인물입니다.\\n\\n3. **얀 르쿤 (Yann LeCun)**'}"
      ]
     },
     "execution_count": 62,
     "metadata": {},
     "output_type": "execute_result"
    }
   ],
   "execution_count": 62
  },
  {
   "metadata": {},
   "cell_type": "code",
   "outputs": [],
   "execution_count": null,
   "source": "",
   "id": "348233ce441a3f51"
  }
 ],
 "metadata": {
  "kernelspec": {
   "display_name": "Python 3",
   "language": "python",
   "name": "python3"
  },
  "language_info": {
   "codemirror_mode": {
    "name": "ipython",
    "version": 2
   },
   "file_extension": ".py",
   "mimetype": "text/x-python",
   "name": "python",
   "nbconvert_exporter": "python",
   "pygments_lexer": "ipython2",
   "version": "2.7.6"
  }
 },
 "nbformat": 4,
 "nbformat_minor": 5
}

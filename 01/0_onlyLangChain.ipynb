{
 "cells": [
  {
   "cell_type": "code",
   "id": "initial_id",
   "metadata": {
    "collapsed": true,
    "ExecuteTime": {
     "end_time": "2025-03-04T02:24:33.634156Z",
     "start_time": "2025-03-04T02:24:33.626832Z"
    }
   },
   "source": [
    "# API KEY를 환경변수로 관리하기 위한 설정 파일\n",
    "from dotenv import load_dotenv\n",
    "\n",
    "# API KEY 정보로드\n",
    "load_dotenv()"
   ],
   "outputs": [
    {
     "data": {
      "text/plain": [
       "True"
      ]
     },
     "execution_count": 1,
     "metadata": {},
     "output_type": "execute_result"
    }
   ],
   "execution_count": 1
  },
  {
   "metadata": {
    "ExecuteTime": {
     "end_time": "2025-03-04T02:24:40.369992Z",
     "start_time": "2025-03-04T02:24:35.030737Z"
    }
   },
   "cell_type": "code",
   "source": [
    "# LCEL for chain\n",
    "from langchain_core.output_parsers import StrOutputParser\n",
    "from langchain_core.prompts import ChatPromptTemplate\n",
    "from langchain_openai import ChatOpenAI\n",
    "\n",
    "prompt = ChatPromptTemplate.from_template(\"tell me a short joke about {topic}\")\n",
    "\n",
    "model = ChatOpenAI(\n",
    "    model=\"gpt-4o-mini\"\n",
    ")\n",
    "\n",
    "# StrOutputParser() ai 의 응답을 내용만 봅아서 볼 수 있음. 원래는 메타 데이터도 포함됨.\n",
    "chain = prompt | model | StrOutputParser()\n",
    "\n",
    "print(f\"[답변]: {chain.invoke({'topic': 'ice cream'})}\")\n",
    "\n"
   ],
   "id": "2f102da50882e71e",
   "outputs": [
    {
     "name": "stdout",
     "output_type": "stream",
     "text": [
      "[답변]: Why did the ice cream cone become a detective? \n",
      "\n",
      "Because it always wanted to solve the case of the missing sprinkles!\n"
     ]
    }
   ],
   "execution_count": 2
  },
  {
   "metadata": {
    "ExecuteTime": {
     "end_time": "2025-03-04T08:06:44.788644Z",
     "start_time": "2025-03-04T08:06:43.211941Z"
    }
   },
   "cell_type": "code",
   "source": [
    "# chain 의 stream 기능 써보기\n",
    "model = ChatOpenAI(\n",
    "    model=\"gpt-4o-mini\"\n",
    ")\n",
    "\n",
    "prompt = ChatPromptTemplate.from_template(\"tell me a short joke about {topic}\")\n",
    "\n",
    "chain = prompt | model\n",
    "\n",
    "for s in chain.stream({\"topic\": \"ice cream\"}):\n",
    "    print(s.content, end=\"\", flush=True)"
   ],
   "id": "7a35f55b517330ba",
   "outputs": [
    {
     "name": "stdout",
     "output_type": "stream",
     "text": [
      "Why did the ice cream truck break down?\n",
      "\n",
      "Because it had a rocky road!"
     ]
    }
   ],
   "execution_count": 7
  },
  {
   "metadata": {},
   "cell_type": "markdown",
   "source": [
    "\n",
    "Stream 사용 이유\n",
    "* 빠른 응답 제공: 전체 응답이 생성될 때까지 기다릴 필요 없이, 한 토큰씩 받아볼 수 있음.\n",
    "* 실시간 처리 가능: UI에서 점진적으로 텍스트를 표시하거나, 스트림 데이터를 다른 곳에서 활용할 수 있음.\n",
    "* 메모리 효율성: 한 번에 모든 데이터를 로드하지 않기 때문에 메모리 부담이 줄어듦."
   ],
   "id": "67eb4977cb6bbd4"
  },
  {
   "metadata": {
    "ExecuteTime": {
     "end_time": "2025-03-04T08:13:40.433216Z",
     "start_time": "2025-03-04T08:13:39.079738Z"
    }
   },
   "cell_type": "code",
   "source": [
    "# 프롬포트는 이렇게 해야된대\n",
    "from langchain_core.messages import SystemMessage\n",
    "from langchain_core.prompts import ChatPromptTemplate, HumanMessagePromptTemplate\n",
    "\n",
    "chat_template = ChatPromptTemplate.from_messages(\n",
    "    [\n",
    "        # SystemMessage : ai 의 역할과 행동 지침을 설정.\n",
    "        SystemMessage(\n",
    "            content=(\n",
    "                \"너는 소설 전문가 AI야. 사용자가 원하는 장르의 영화를 리스트 형태로 추천해줘.\"\n",
    "                'ex(Query: 현대 문학 소설 5개 추천해줘 / 답변: [\"aa\", \"ee\", \"ee2\"]'\n",
    "                # 프롬포트를 아래 처럼 명확히 전달하면, 원하는 대로 나옴. Or model 의 temperature 을 내리는 것도 방법\n",
    "                # \"너는 소설 전문가 AI야. 사용자가 원하는 장르의 소설을 리스트 형태(예: [\\\"aa\\\", \\\"ee\\\", \\\"ee2\\\"])로만 추천해줘. \"\n",
    "                # \"어떠한 설명이나 부연 없이 오직 리스트 형태로만 답변해.\"\n",
    "            )\n",
    "        ),\n",
    "        HumanMessagePromptTemplate.from_template(\"{text}\"),  # HumanMessagePromptTemplate 사용자의 입력을 받기 위한 템플릿\n",
    "    ]\n",
    ")\n",
    "\n",
    "model = ChatOpenAI(model=\"gpt-4o-mini\") # temperature=0.2\n",
    "chain = chat_template | model\n",
    "chain.invoke(\"사회\").content"
   ],
   "id": "2c275514edc70ae6",
   "outputs": [
    {
     "data": {
      "text/plain": [
       "'[\"1984 - 조지 오웰\", \"브레이킹 다운 - 마거릿 애트우드\", \"노인과 바다 - 어니스트 헤밍웨이\", \"안나 카레니나 - 레프 톨스토이\", \"소설가 구보 씨의 일일 - 박태원\"]'"
      ]
     },
     "execution_count": 14,
     "metadata": {},
     "output_type": "execute_result"
    }
   ],
   "execution_count": 14
  },
  {
   "metadata": {
    "ExecuteTime": {
     "end_time": "2025-03-04T08:14:26.107339Z",
     "start_time": "2025-03-04T08:14:24.891270Z"
    }
   },
   "cell_type": "code",
   "source": [
    "# 부분적으로 프롬포트에 미리 넣어두고 싶은 부분이 있다면?\n",
    "from langchain_core.prompts import PromptTemplate\n",
    "from langchain.output_parsers import CommaSeparatedListOutputParser\n",
    "\n",
    "# parser 선언\n",
    "output_parser = CommaSeparatedListOutputParser()\n",
    "\n",
    "# csv 파서 작동을 위한 형식 지정 프롬프트 로드\n",
    "format_instructions = output_parser.get_format_instructions()\n",
    "\n",
    "# 프롬포트 템플릿의 partial_variables 에 csv 형식 지정 프롬포트 주입\n",
    "prompt = PromptTemplate(\n",
    "    template=\"List {subject}. {format_instructions}\", # \"List 한국 현대 문학. 지정한 포맷 형식으로 답변해 주세요.\"\n",
    "    input_variables=[\"subject\"],\n",
    "    partial_variables={\"format_instructions\": format_instructions},\n",
    ")\n",
    "\n",
    "model = ChatOpenAI(model=\"gpt-4o-mini\")\n",
    "chain = prompt | model | output_parser\n",
    "chain.invoke({\"subject\":\"한국 현대 문학\"})\n",
    "\n"
   ],
   "id": "b0280a066caadf6f",
   "outputs": [
    {
     "data": {
      "text/plain": [
       "['김영하', '한강', '이민진', '박완서', '정유정', '최은영', '윤고은', '공지영', '김애란', '백영미']"
      ]
     },
     "execution_count": 15,
     "metadata": {},
     "output_type": "execute_result"
    }
   ],
   "execution_count": 15
  },
  {
   "metadata": {
    "ExecuteTime": {
     "end_time": "2025-03-04T08:34:32.596999Z",
     "start_time": "2025-03-04T08:34:31.822866Z"
    }
   },
   "cell_type": "code",
   "source": [
    "# jsonOutPutParser 이용해보기\n",
    "from pydantic import Field\n",
    "from langchain_core.output_parsers import JsonOutputParser\n",
    "from openai import BaseModel\n",
    "\n",
    "class Country(BaseModel):\n",
    "    continent: str = Field(description=\"사용자가 물어본 나라가 속한 대륙\")\n",
    "    population: str = Field(description=\"사용자가 물어본 나라의 인구(int 형식)\")\n",
    "\n",
    "\n",
    "# JsonOutputParser 생성할 때 format_instructions 로 class 넘겨\n",
    "parser = JsonOutputParser(pydantic_object=Country)\n",
    "\n",
    "prompt = PromptTemplate(\n",
    "    template=\"Answer the user query. in korean. {format_instructions} {query}\",\n",
    "    input_variables=[\"query\"],\n",
    "    partial_variables={\"format_instructions\": parser.get_format_instructions()},\n",
    ")\n",
    "\n",
    "chain = prompt | model | parser\n",
    "\n",
    "country_query = \"태국은 어떤 나라야?\"\n",
    "chain.invoke({\"query\": country_query})\n"
   ],
   "id": "8a685296a559a5c5",
   "outputs": [
    {
     "data": {
      "text/plain": [
       "{'continent': '아시아', 'population': '70000000'}"
      ]
     },
     "execution_count": 36,
     "metadata": {},
     "output_type": "execute_result"
    }
   ],
   "execution_count": 36
  },
  {
   "metadata": {
    "ExecuteTime": {
     "end_time": "2025-03-04T08:36:55.029681Z",
     "start_time": "2025-03-04T08:36:53.744318Z"
    }
   },
   "cell_type": "code",
   "source": [
    "from langchain_core.runnables import RunnablePassthrough\n",
    "\n",
    "# RunnablePassthrough 입력 그대로 전달\n",
    "# 다음 한글 문장을 프랑스어로 번역해줘 윤지는 아무래도 짱이다.\n",
    "# French sentence: (print from here)\n",
    "prompt = ChatPromptTemplate.from_template(\n",
    "    \"\"\"다음 한글 문장을 프랑스어로 번역해줘 {sentence}\n",
    "        French sentence: (print from here)\"\"\"\n",
    ")\n",
    "\n",
    "model = ChatOpenAI(model=\"gpt-4o-mini\")\n",
    "parser = StrOutputParser()\n",
    "\n",
    "runnable_chain = {\"sentence\": RunnablePassthrough()} | prompt | model | parser\n",
    "runnable_chain.invoke({\"sentence\": \"윤지는 아무래도 짱이다.\"})"
   ],
   "id": "97b08e57c5ae502b",
   "outputs": [
    {
     "data": {
      "text/plain": [
       "'윤지는 아무래도 짱이다.  \\nFrench sentence: Yoonji est vraiment géniale.'"
      ]
     },
     "execution_count": 44,
     "metadata": {},
     "output_type": "execute_result"
    }
   ],
   "execution_count": 44
  },
  {
   "metadata": {
    "ExecuteTime": {
     "end_time": "2025-03-04T08:40:58.351335Z",
     "start_time": "2025-03-04T08:40:58.349206Z"
    }
   },
   "cell_type": "code",
   "source": [
    "def add_smile(x):\n",
    "    return x + \" :)\""
   ],
   "id": "d34e4105c6eaa014",
   "outputs": [],
   "execution_count": 46
  },
  {
   "metadata": {
    "ExecuteTime": {
     "end_time": "2025-03-04T08:32:36.048462Z",
     "start_time": "2025-03-04T08:32:36.045692Z"
    }
   },
   "cell_type": "code",
   "source": [
    "from langchain_core.runnables import RunnableLambda\n",
    "\n",
    " = RunnableLambda()"
   ],
   "id": "6509eaffb9329d1c",
   "outputs": [],
   "execution_count": 27
  },
  {
   "metadata": {
    "ExecuteTime": {
     "end_time": "2025-03-04T08:34:24.757483Z",
     "start_time": "2025-03-04T08:34:22.730154Z"
    }
   },
   "cell_type": "code",
   "source": [
    "prompt_str = \"{topic} 의 역사에 대해 세 문장으로 설명해주세요.\"\n",
    "prompt = ChatPromptTemplate.from_template(prompt_str)\n",
    "\n",
    "model = ChatOpenAI(model=\"gpt-4o-mini\")\n",
    "\n",
    "output_parser = StrOutputParser()\n",
    "\n",
    "chain = prompt | model | output_parser | \n",
    "chain.invoke({\"topic\": \"한국\"})"
   ],
   "id": "d8d8d1e64fc53b4e",
   "outputs": [
    {
     "data": {
      "text/plain": [
       "'한국의 역사는 고조선(기원전 2333년)으로 시작되어 삼국 시대(고구려, 백제, 신라)를 거쳐 통일 신라와 고려 시대를 지나 조선 왕조에 이르렀습니다. 20세기 초 일본의 식민지 지배를 받았으나, 1945년 해방된 후 1948년 대한민국과 조선민주주의인민공화국으로 분단되었습니다. 이후 한국전쟁(1950-1953)을 겪고 경제 성장을 이루며 현재는 민주주의 국가로 자리잡고 있습니다.:)'"
      ]
     },
     "execution_count": 35,
     "metadata": {},
     "output_type": "execute_result"
    }
   ],
   "execution_count": 35
  },
  {
   "metadata": {
    "ExecuteTime": {
     "end_time": "2025-03-04T08:45:21.306065Z",
     "start_time": "2025-03-04T08:45:21.302289Z"
    }
   },
   "cell_type": "code",
   "source": [
    "from langchain_core.runnables import RunnableParallel\n",
    "\n",
    "# RunnableParallel 여러 작업 동시 병렬로 진행\n",
    "# LLM 호출, API 요청, 전처리 등을 자유롭게 결합.\n",
    "runnable_parallel = RunnableParallel(\n",
    "    passed = RunnablePassthrough(),\n",
    "    modified = add_smile\n",
    ")\n",
    "\n",
    "runnable_parallel.invoke(\"하이하이\")"
   ],
   "id": "69bf9f1db27d3c96",
   "outputs": [
    {
     "data": {
      "text/plain": [
       "{'passed': '하이하이', 'modified': '하이하이 :)'}"
      ]
     },
     "execution_count": 49,
     "metadata": {},
     "output_type": "execute_result"
    }
   ],
   "execution_count": 49
  },
  {
   "metadata": {
    "ExecuteTime": {
     "end_time": "2025-03-04T08:45:25.258130Z",
     "start_time": "2025-03-04T08:45:22.979392Z"
    }
   },
   "cell_type": "code",
   "source": [
    "# RunnableParallel 예제 2\n",
    "from langchain_core.runnables import RunnableParallel\n",
    "from langchain_core.output_parsers import StrOutputParser\n",
    "from langchain_openai import ChatOpenAI\n",
    "from langchain_core.prompts import ChatPromptTemplate\n",
    "\n",
    "# prompt\n",
    "description_prompt = ChatPromptTemplate.from_template(\"{topic} 이 무엇을 뜻하는 약자입니까?\")\n",
    "celeb_prompt = ChatPromptTemplate.from_template(\"{topic} 와 관련된 유명인사는 누구입니까?\")\n",
    "# model\n",
    "model = ChatOpenAI(model=\"gpt-4o-mini\", max_tokens=128, temperature=0)\n",
    "# output_parser\n",
    "output_parser = StrOutputParser()\n",
    "\n",
    "description_chain = description_prompt | model | output_parser\n",
    "celeb_chain = celeb_prompt | model | output_parser\n",
    "\n",
    "map_chain = RunnableParallel(description = description_chain, celeb = celeb_chain)\n",
    "invoke= map_chain.invoke({\"topic\": \"AI\"})\n",
    "invoke\n"
   ],
   "id": "827c75e70d0626d8",
   "outputs": [
    {
     "data": {
      "text/plain": [
       "{'description': 'AI는 \"Artificial Intelligence\"의 약자로, 한국어로는 \"인공지능\"이라고 합니다. 인공지능은 컴퓨터 시스템이나 기계가 인간의 지능을 모방하여 학습, 추론, 문제 해결 등의 작업을 수행할 수 있도록 하는 기술을 의미합니다.',\n",
       " 'celeb': 'AI와 관련된 유명인사들은 여러 분야에서 활동하고 있으며, 그 중 일부는 다음과 같습니다:\\n\\n1. **엘론 머스크 (Elon Musk)** - 테슬라와 스페이스X의 CEO로, AI의 발전에 대한 경고와 함께 OpenAI의 공동 창립자이기도 합니다.\\n\\n2. **제프리 힌튼 (Geoffrey Hinton)** - 딥러닝의 아버지로 불리며, 인공지능 분야에서 중요한 연구를 해온 인물입니다.\\n\\n3. **얀 르쿤 (Yann LeCun)**'}"
      ]
     },
     "execution_count": 50,
     "metadata": {},
     "output_type": "execute_result"
    }
   ],
   "execution_count": 50
  }
 ],
 "metadata": {
  "kernelspec": {
   "display_name": "Python 3",
   "language": "python",
   "name": "python3"
  },
  "language_info": {
   "codemirror_mode": {
    "name": "ipython",
    "version": 2
   },
   "file_extension": ".py",
   "mimetype": "text/x-python",
   "name": "python",
   "nbconvert_exporter": "python",
   "pygments_lexer": "ipython2",
   "version": "2.7.6"
  }
 },
 "nbformat": 4,
 "nbformat_minor": 5
}

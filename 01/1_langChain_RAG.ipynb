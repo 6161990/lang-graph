{
 "cells": [
  {
   "metadata": {
    "ExecuteTime": {
     "end_time": "2025-03-04T08:45:29.571683Z",
     "start_time": "2025-03-04T08:45:29.567573Z"
    }
   },
   "cell_type": "code",
   "source": [
    "# API KEY를 환경변수로 관리하기 위한 설정 파일\n",
    "from dotenv import load_dotenv\n",
    "\n",
    "# API KEY 정보로드\n",
    "load_dotenv()"
   ],
   "id": "b8d283ea3bbe4b46",
   "outputs": [
    {
     "data": {
      "text/plain": [
       "True"
      ]
     },
     "execution_count": 12,
     "metadata": {},
     "output_type": "execute_result"
    }
   ],
   "execution_count": 12
  },
  {
   "metadata": {
    "collapsed": true,
    "ExecuteTime": {
     "end_time": "2025-03-04T08:45:30.715130Z",
     "start_time": "2025-03-04T08:45:30.362566Z"
    }
   },
   "cell_type": "code",
   "source": [
    "# 임베딩 모델로 텍스트 수치화\n",
    "from langchain_openai import OpenAIEmbeddings\n",
    "\n",
    "embeddings_model = OpenAIEmbeddings(model='text-embedding-3-small')\n",
    "embeddings = embeddings_model.embed_documents(\n",
    "    [\"Hi there!\", \"Oh hello!\", \"What's your name?\", \"My friends call me World\", \"Hello World!\"]\n",
    ")\n",
    "\n",
    "len(embeddings), len(embeddings[0]),\n",
    "print(embeddings[0] [: 10])"
   ],
   "id": "initial_id",
   "outputs": [
    {
     "ename": "AuthenticationError",
     "evalue": "Error code: 401 - {'error': {'message': 'Incorrect API key provided: proj_epD*****************tJKE. You can find your API key at https://platform.openai.com/account/api-keys.', 'type': 'invalid_request_error', 'param': None, 'code': 'invalid_api_key'}}",
     "output_type": "error",
     "traceback": [
      "\u001B[31m---------------------------------------------------------------------------\u001B[39m",
      "\u001B[31mAuthenticationError\u001B[39m                       Traceback (most recent call last)",
      "\u001B[36mCell\u001B[39m\u001B[36m \u001B[39m\u001B[32mIn[13]\u001B[39m\u001B[32m, line 5\u001B[39m\n\u001B[32m      2\u001B[39m \u001B[38;5;28;01mfrom\u001B[39;00m\u001B[38;5;250m \u001B[39m\u001B[34;01mlangchain_openai\u001B[39;00m\u001B[38;5;250m \u001B[39m\u001B[38;5;28;01mimport\u001B[39;00m OpenAIEmbeddings\n\u001B[32m      4\u001B[39m embeddings_model = OpenAIEmbeddings(model=\u001B[33m'\u001B[39m\u001B[33mtext-embedding-3-small\u001B[39m\u001B[33m'\u001B[39m)\n\u001B[32m----> \u001B[39m\u001B[32m5\u001B[39m embeddings = \u001B[43membeddings_model\u001B[49m\u001B[43m.\u001B[49m\u001B[43membed_documents\u001B[49m\u001B[43m(\u001B[49m\n\u001B[32m      6\u001B[39m \u001B[43m    \u001B[49m\u001B[43m[\u001B[49m\u001B[33;43m\"\u001B[39;49m\u001B[33;43mHi there!\u001B[39;49m\u001B[33;43m\"\u001B[39;49m\u001B[43m,\u001B[49m\u001B[43m \u001B[49m\u001B[33;43m\"\u001B[39;49m\u001B[33;43mOh hello!\u001B[39;49m\u001B[33;43m\"\u001B[39;49m\u001B[43m,\u001B[49m\u001B[43m \u001B[49m\u001B[33;43m\"\u001B[39;49m\u001B[33;43mWhat\u001B[39;49m\u001B[33;43m'\u001B[39;49m\u001B[33;43ms your name?\u001B[39;49m\u001B[33;43m\"\u001B[39;49m\u001B[43m,\u001B[49m\u001B[43m \u001B[49m\u001B[33;43m\"\u001B[39;49m\u001B[33;43mMy friends call me World\u001B[39;49m\u001B[33;43m\"\u001B[39;49m\u001B[43m,\u001B[49m\n\u001B[32m      7\u001B[39m \u001B[43m     \u001B[49m\u001B[33;43m\"\u001B[39;49m\u001B[33;43mHello World!\u001B[39;49m\u001B[33;43m\"\u001B[39;49m\u001B[43m]\u001B[49m\u001B[43m)\u001B[49m\n\u001B[32m      9\u001B[39m \u001B[38;5;28mlen\u001B[39m(embeddings), \u001B[38;5;28mlen\u001B[39m(embeddings[\u001B[32m0\u001B[39m]),\n\u001B[32m     10\u001B[39m \u001B[38;5;28mprint\u001B[39m(embeddings[\u001B[32m0\u001B[39m] [: \u001B[32m10\u001B[39m])\n",
      "\u001B[36mFile \u001B[39m\u001B[32m~/6161990/stupid-agent-lang-graph/.venv/lib/python3.11/site-packages/langchain_openai/embeddings/base.py:588\u001B[39m, in \u001B[36mOpenAIEmbeddings.embed_documents\u001B[39m\u001B[34m(self, texts, chunk_size)\u001B[39m\n\u001B[32m    585\u001B[39m \u001B[38;5;66;03m# NOTE: to keep things simple, we assume the list may contain texts longer\u001B[39;00m\n\u001B[32m    586\u001B[39m \u001B[38;5;66;03m#       than the maximum context and use length-safe embedding function.\u001B[39;00m\n\u001B[32m    587\u001B[39m engine = cast(\u001B[38;5;28mstr\u001B[39m, \u001B[38;5;28mself\u001B[39m.deployment)\n\u001B[32m--> \u001B[39m\u001B[32m588\u001B[39m \u001B[38;5;28;01mreturn\u001B[39;00m \u001B[38;5;28;43mself\u001B[39;49m\u001B[43m.\u001B[49m\u001B[43m_get_len_safe_embeddings\u001B[49m\u001B[43m(\u001B[49m\u001B[43mtexts\u001B[49m\u001B[43m,\u001B[49m\u001B[43m \u001B[49m\u001B[43mengine\u001B[49m\u001B[43m=\u001B[49m\u001B[43mengine\u001B[49m\u001B[43m)\u001B[49m\n",
      "\u001B[36mFile \u001B[39m\u001B[32m~/6161990/stupid-agent-lang-graph/.venv/lib/python3.11/site-packages/langchain_openai/embeddings/base.py:483\u001B[39m, in \u001B[36mOpenAIEmbeddings._get_len_safe_embeddings\u001B[39m\u001B[34m(self, texts, engine, chunk_size)\u001B[39m\n\u001B[32m    481\u001B[39m batched_embeddings: List[List[\u001B[38;5;28mfloat\u001B[39m]] = []\n\u001B[32m    482\u001B[39m \u001B[38;5;28;01mfor\u001B[39;00m i \u001B[38;5;129;01min\u001B[39;00m _iter:\n\u001B[32m--> \u001B[39m\u001B[32m483\u001B[39m     response = \u001B[38;5;28;43mself\u001B[39;49m\u001B[43m.\u001B[49m\u001B[43mclient\u001B[49m\u001B[43m.\u001B[49m\u001B[43mcreate\u001B[49m\u001B[43m(\u001B[49m\n\u001B[32m    484\u001B[39m \u001B[43m        \u001B[49m\u001B[38;5;28;43minput\u001B[39;49m\u001B[43m=\u001B[49m\u001B[43mtokens\u001B[49m\u001B[43m[\u001B[49m\u001B[43mi\u001B[49m\u001B[43m \u001B[49m\u001B[43m:\u001B[49m\u001B[43m \u001B[49m\u001B[43mi\u001B[49m\u001B[43m \u001B[49m\u001B[43m+\u001B[49m\u001B[43m \u001B[49m\u001B[43m_chunk_size\u001B[49m\u001B[43m]\u001B[49m\u001B[43m,\u001B[49m\u001B[43m \u001B[49m\u001B[43m*\u001B[49m\u001B[43m*\u001B[49m\u001B[38;5;28;43mself\u001B[39;49m\u001B[43m.\u001B[49m\u001B[43m_invocation_params\u001B[49m\n\u001B[32m    485\u001B[39m \u001B[43m    \u001B[49m\u001B[43m)\u001B[49m\n\u001B[32m    486\u001B[39m     \u001B[38;5;28;01mif\u001B[39;00m \u001B[38;5;129;01mnot\u001B[39;00m \u001B[38;5;28misinstance\u001B[39m(response, \u001B[38;5;28mdict\u001B[39m):\n\u001B[32m    487\u001B[39m         response = response.model_dump()\n",
      "\u001B[36mFile \u001B[39m\u001B[32m~/6161990/stupid-agent-lang-graph/.venv/lib/python3.11/site-packages/openai/resources/embeddings.py:128\u001B[39m, in \u001B[36mEmbeddings.create\u001B[39m\u001B[34m(self, input, model, dimensions, encoding_format, user, extra_headers, extra_query, extra_body, timeout)\u001B[39m\n\u001B[32m    122\u001B[39m             embedding.embedding = np.frombuffer(  \u001B[38;5;66;03m# type: ignore[no-untyped-call]\u001B[39;00m\n\u001B[32m    123\u001B[39m                 base64.b64decode(data), dtype=\u001B[33m\"\u001B[39m\u001B[33mfloat32\u001B[39m\u001B[33m\"\u001B[39m\n\u001B[32m    124\u001B[39m             ).tolist()\n\u001B[32m    126\u001B[39m     \u001B[38;5;28;01mreturn\u001B[39;00m obj\n\u001B[32m--> \u001B[39m\u001B[32m128\u001B[39m \u001B[38;5;28;01mreturn\u001B[39;00m \u001B[38;5;28;43mself\u001B[39;49m\u001B[43m.\u001B[49m\u001B[43m_post\u001B[49m\u001B[43m(\u001B[49m\n\u001B[32m    129\u001B[39m \u001B[43m    \u001B[49m\u001B[33;43m\"\u001B[39;49m\u001B[33;43m/embeddings\u001B[39;49m\u001B[33;43m\"\u001B[39;49m\u001B[43m,\u001B[49m\n\u001B[32m    130\u001B[39m \u001B[43m    \u001B[49m\u001B[43mbody\u001B[49m\u001B[43m=\u001B[49m\u001B[43mmaybe_transform\u001B[49m\u001B[43m(\u001B[49m\u001B[43mparams\u001B[49m\u001B[43m,\u001B[49m\u001B[43m \u001B[49m\u001B[43membedding_create_params\u001B[49m\u001B[43m.\u001B[49m\u001B[43mEmbeddingCreateParams\u001B[49m\u001B[43m)\u001B[49m\u001B[43m,\u001B[49m\n\u001B[32m    131\u001B[39m \u001B[43m    \u001B[49m\u001B[43moptions\u001B[49m\u001B[43m=\u001B[49m\u001B[43mmake_request_options\u001B[49m\u001B[43m(\u001B[49m\n\u001B[32m    132\u001B[39m \u001B[43m        \u001B[49m\u001B[43mextra_headers\u001B[49m\u001B[43m=\u001B[49m\u001B[43mextra_headers\u001B[49m\u001B[43m,\u001B[49m\n\u001B[32m    133\u001B[39m \u001B[43m        \u001B[49m\u001B[43mextra_query\u001B[49m\u001B[43m=\u001B[49m\u001B[43mextra_query\u001B[49m\u001B[43m,\u001B[49m\n\u001B[32m    134\u001B[39m \u001B[43m        \u001B[49m\u001B[43mextra_body\u001B[49m\u001B[43m=\u001B[49m\u001B[43mextra_body\u001B[49m\u001B[43m,\u001B[49m\n\u001B[32m    135\u001B[39m \u001B[43m        \u001B[49m\u001B[43mtimeout\u001B[49m\u001B[43m=\u001B[49m\u001B[43mtimeout\u001B[49m\u001B[43m,\u001B[49m\n\u001B[32m    136\u001B[39m \u001B[43m        \u001B[49m\u001B[43mpost_parser\u001B[49m\u001B[43m=\u001B[49m\u001B[43mparser\u001B[49m\u001B[43m,\u001B[49m\n\u001B[32m    137\u001B[39m \u001B[43m    \u001B[49m\u001B[43m)\u001B[49m\u001B[43m,\u001B[49m\n\u001B[32m    138\u001B[39m \u001B[43m    \u001B[49m\u001B[43mcast_to\u001B[49m\u001B[43m=\u001B[49m\u001B[43mCreateEmbeddingResponse\u001B[49m\u001B[43m,\u001B[49m\n\u001B[32m    139\u001B[39m \u001B[43m\u001B[49m\u001B[43m)\u001B[49m\n",
      "\u001B[36mFile \u001B[39m\u001B[32m~/6161990/stupid-agent-lang-graph/.venv/lib/python3.11/site-packages/openai/_base_client.py:1296\u001B[39m, in \u001B[36mSyncAPIClient.post\u001B[39m\u001B[34m(self, path, cast_to, body, options, files, stream, stream_cls)\u001B[39m\n\u001B[32m   1282\u001B[39m \u001B[38;5;28;01mdef\u001B[39;00m\u001B[38;5;250m \u001B[39m\u001B[34mpost\u001B[39m(\n\u001B[32m   1283\u001B[39m     \u001B[38;5;28mself\u001B[39m,\n\u001B[32m   1284\u001B[39m     path: \u001B[38;5;28mstr\u001B[39m,\n\u001B[32m   (...)\u001B[39m\u001B[32m   1291\u001B[39m     stream_cls: \u001B[38;5;28mtype\u001B[39m[_StreamT] | \u001B[38;5;28;01mNone\u001B[39;00m = \u001B[38;5;28;01mNone\u001B[39;00m,\n\u001B[32m   1292\u001B[39m ) -> ResponseT | _StreamT:\n\u001B[32m   1293\u001B[39m     opts = FinalRequestOptions.construct(\n\u001B[32m   1294\u001B[39m         method=\u001B[33m\"\u001B[39m\u001B[33mpost\u001B[39m\u001B[33m\"\u001B[39m, url=path, json_data=body, files=to_httpx_files(files), **options\n\u001B[32m   1295\u001B[39m     )\n\u001B[32m-> \u001B[39m\u001B[32m1296\u001B[39m     \u001B[38;5;28;01mreturn\u001B[39;00m cast(ResponseT, \u001B[38;5;28;43mself\u001B[39;49m\u001B[43m.\u001B[49m\u001B[43mrequest\u001B[49m\u001B[43m(\u001B[49m\u001B[43mcast_to\u001B[49m\u001B[43m,\u001B[49m\u001B[43m \u001B[49m\u001B[43mopts\u001B[49m\u001B[43m,\u001B[49m\u001B[43m \u001B[49m\u001B[43mstream\u001B[49m\u001B[43m=\u001B[49m\u001B[43mstream\u001B[49m\u001B[43m,\u001B[49m\u001B[43m \u001B[49m\u001B[43mstream_cls\u001B[49m\u001B[43m=\u001B[49m\u001B[43mstream_cls\u001B[49m\u001B[43m)\u001B[49m)\n",
      "\u001B[36mFile \u001B[39m\u001B[32m~/6161990/stupid-agent-lang-graph/.venv/lib/python3.11/site-packages/openai/_base_client.py:973\u001B[39m, in \u001B[36mSyncAPIClient.request\u001B[39m\u001B[34m(self, cast_to, options, remaining_retries, stream, stream_cls)\u001B[39m\n\u001B[32m    970\u001B[39m \u001B[38;5;28;01melse\u001B[39;00m:\n\u001B[32m    971\u001B[39m     retries_taken = \u001B[32m0\u001B[39m\n\u001B[32m--> \u001B[39m\u001B[32m973\u001B[39m \u001B[38;5;28;01mreturn\u001B[39;00m \u001B[38;5;28;43mself\u001B[39;49m\u001B[43m.\u001B[49m\u001B[43m_request\u001B[49m\u001B[43m(\u001B[49m\n\u001B[32m    974\u001B[39m \u001B[43m    \u001B[49m\u001B[43mcast_to\u001B[49m\u001B[43m=\u001B[49m\u001B[43mcast_to\u001B[49m\u001B[43m,\u001B[49m\n\u001B[32m    975\u001B[39m \u001B[43m    \u001B[49m\u001B[43moptions\u001B[49m\u001B[43m=\u001B[49m\u001B[43moptions\u001B[49m\u001B[43m,\u001B[49m\n\u001B[32m    976\u001B[39m \u001B[43m    \u001B[49m\u001B[43mstream\u001B[49m\u001B[43m=\u001B[49m\u001B[43mstream\u001B[49m\u001B[43m,\u001B[49m\n\u001B[32m    977\u001B[39m \u001B[43m    \u001B[49m\u001B[43mstream_cls\u001B[49m\u001B[43m=\u001B[49m\u001B[43mstream_cls\u001B[49m\u001B[43m,\u001B[49m\n\u001B[32m    978\u001B[39m \u001B[43m    \u001B[49m\u001B[43mretries_taken\u001B[49m\u001B[43m=\u001B[49m\u001B[43mretries_taken\u001B[49m\u001B[43m,\u001B[49m\n\u001B[32m    979\u001B[39m \u001B[43m\u001B[49m\u001B[43m)\u001B[49m\n",
      "\u001B[36mFile \u001B[39m\u001B[32m~/6161990/stupid-agent-lang-graph/.venv/lib/python3.11/site-packages/openai/_base_client.py:1077\u001B[39m, in \u001B[36mSyncAPIClient._request\u001B[39m\u001B[34m(self, cast_to, options, retries_taken, stream, stream_cls)\u001B[39m\n\u001B[32m   1074\u001B[39m         err.response.read()\n\u001B[32m   1076\u001B[39m     log.debug(\u001B[33m\"\u001B[39m\u001B[33mRe-raising status error\u001B[39m\u001B[33m\"\u001B[39m)\n\u001B[32m-> \u001B[39m\u001B[32m1077\u001B[39m     \u001B[38;5;28;01mraise\u001B[39;00m \u001B[38;5;28mself\u001B[39m._make_status_error_from_response(err.response) \u001B[38;5;28;01mfrom\u001B[39;00m\u001B[38;5;250m \u001B[39m\u001B[38;5;28;01mNone\u001B[39;00m\n\u001B[32m   1079\u001B[39m \u001B[38;5;28;01mreturn\u001B[39;00m \u001B[38;5;28mself\u001B[39m._process_response(\n\u001B[32m   1080\u001B[39m     cast_to=cast_to,\n\u001B[32m   1081\u001B[39m     options=options,\n\u001B[32m   (...)\u001B[39m\u001B[32m   1085\u001B[39m     retries_taken=retries_taken,\n\u001B[32m   1086\u001B[39m )\n",
      "\u001B[31mAuthenticationError\u001B[39m: Error code: 401 - {'error': {'message': 'Incorrect API key provided: proj_epD*****************tJKE. You can find your API key at https://platform.openai.com/account/api-keys.', 'type': 'invalid_request_error', 'param': None, 'code': 'invalid_api_key'}}"
     ]
    }
   ],
   "execution_count": 13
  },
  {
   "metadata": {
    "ExecuteTime": {
     "end_time": "2025-03-04T08:47:51.421798Z",
     "start_time": "2025-03-04T08:47:51.309483Z"
    }
   },
   "cell_type": "code",
   "source": [
    "# pip install pypdf\n",
    "from langchain_openai import OpenAIEmbeddings\n",
    "from langchain_text_splitters import RecursiveCharacterTextSplitter\n",
    "from langchain_community.document_loaders import PyPDFLoader\n",
    "\n",
    "# PDF 문서 로드\n",
    "loader = PyPDFLoader(r\"../content/202408_이력서.pdf\")\n",
    "pages = loader.load()\n",
    "\n",
    "# PDF 문서를 여러 청크로 분할\n",
    "text_splitter = RecursiveCharacterTextSplitter(\n",
    "    chunk_size=500,\n",
    "    chunk_overlap=100\n",
    ")\n",
    "\n",
    "texts = text_splitter.split_documents(pages)\n",
    "\n",
    "# 임베딩 모델 API 호출\n",
    "embeddings_model = OpenAIEmbeddings(model='text-embedding-3-small')\n",
    "\n",
    "# OpenAI 임베딩 모델로 청크들을 임베딩 변환하기\n",
    "embeddings = embeddings_model.embed_documents([i.page_content for i in texts])\n",
    "len(embeddings), len(embeddings[0]),"
   ],
   "id": "84f5d7aded9fbbec",
   "outputs": [
    {
     "ename": "ValueError",
     "evalue": "File path ../content/202408_이력서.pdf is not a valid file or url",
     "output_type": "error",
     "traceback": [
      "\u001B[31m---------------------------------------------------------------------------\u001B[39m",
      "\u001B[31mValueError\u001B[39m                                Traceback (most recent call last)",
      "\u001B[36mCell\u001B[39m\u001B[36m \u001B[39m\u001B[32mIn[16]\u001B[39m\u001B[32m, line 7\u001B[39m\n\u001B[32m      4\u001B[39m \u001B[38;5;28;01mfrom\u001B[39;00m\u001B[38;5;250m \u001B[39m\u001B[34;01mlangchain_community\u001B[39;00m\u001B[34;01m.\u001B[39;00m\u001B[34;01mdocument_loaders\u001B[39;00m\u001B[38;5;250m \u001B[39m\u001B[38;5;28;01mimport\u001B[39;00m PyPDFLoader\n\u001B[32m      6\u001B[39m \u001B[38;5;66;03m# PDF 문서 로드\u001B[39;00m\n\u001B[32m----> \u001B[39m\u001B[32m7\u001B[39m loader = \u001B[43mPyPDFLoader\u001B[49m\u001B[43m(\u001B[49m\u001B[33;43mr\u001B[39;49m\u001B[33;43m\"\u001B[39;49m\u001B[33;43m../content/202408_이력서.pdf\u001B[39;49m\u001B[33;43m\"\u001B[39;49m\u001B[43m)\u001B[49m\n\u001B[32m      8\u001B[39m pages = loader.load()\n\u001B[32m     10\u001B[39m \u001B[38;5;66;03m# PDF 문서를 여러 청크로 분할\u001B[39;00m\n",
      "\u001B[36mFile \u001B[39m\u001B[32m~/6161990/stupid-agent-lang-graph/.venv/lib/python3.11/site-packages/langchain_community/document_loaders/pdf.py:281\u001B[39m, in \u001B[36mPyPDFLoader.__init__\u001B[39m\u001B[34m(self, file_path, password, headers, extract_images, mode, images_parser, images_inner_format, pages_delimiter, extraction_mode, extraction_kwargs)\u001B[39m\n\u001B[32m    238\u001B[39m \u001B[38;5;28;01mdef\u001B[39;00m\u001B[38;5;250m \u001B[39m\u001B[34m__init__\u001B[39m(\n\u001B[32m    239\u001B[39m     \u001B[38;5;28mself\u001B[39m,\n\u001B[32m    240\u001B[39m     file_path: Union[\u001B[38;5;28mstr\u001B[39m, PurePath],\n\u001B[32m   (...)\u001B[39m\u001B[32m    250\u001B[39m     extraction_kwargs: Optional[\u001B[38;5;28mdict\u001B[39m] = \u001B[38;5;28;01mNone\u001B[39;00m,\n\u001B[32m    251\u001B[39m ) -> \u001B[38;5;28;01mNone\u001B[39;00m:\n\u001B[32m    252\u001B[39m \u001B[38;5;250m    \u001B[39m\u001B[33;03m\"\"\"Initialize with a file path.\u001B[39;00m\n\u001B[32m    253\u001B[39m \n\u001B[32m    254\u001B[39m \u001B[33;03m    Args:\u001B[39;00m\n\u001B[32m   (...)\u001B[39m\u001B[32m    279\u001B[39m \u001B[33;03m        `aload` methods to retrieve parsed documents with content and metadata.\u001B[39;00m\n\u001B[32m    280\u001B[39m \u001B[33;03m    \"\"\"\u001B[39;00m\n\u001B[32m--> \u001B[39m\u001B[32m281\u001B[39m     \u001B[38;5;28;43msuper\u001B[39;49m\u001B[43m(\u001B[49m\u001B[43m)\u001B[49m\u001B[43m.\u001B[49m\u001B[34;43m__init__\u001B[39;49m\u001B[43m(\u001B[49m\u001B[43mfile_path\u001B[49m\u001B[43m,\u001B[49m\u001B[43m \u001B[49m\u001B[43mheaders\u001B[49m\u001B[43m=\u001B[49m\u001B[43mheaders\u001B[49m\u001B[43m)\u001B[49m\n\u001B[32m    282\u001B[39m     \u001B[38;5;28mself\u001B[39m.parser = PyPDFParser(\n\u001B[32m    283\u001B[39m         password=password,\n\u001B[32m    284\u001B[39m         mode=mode,\n\u001B[32m   (...)\u001B[39m\u001B[32m    290\u001B[39m         extraction_kwargs=extraction_kwargs,\n\u001B[32m    291\u001B[39m     )\n",
      "\u001B[36mFile \u001B[39m\u001B[32m~/6161990/stupid-agent-lang-graph/.venv/lib/python3.11/site-packages/langchain_community/document_loaders/pdf.py:140\u001B[39m, in \u001B[36mBasePDFLoader.__init__\u001B[39m\u001B[34m(self, file_path, headers)\u001B[39m\n\u001B[32m    138\u001B[39m         \u001B[38;5;28mself\u001B[39m.file_path = \u001B[38;5;28mstr\u001B[39m(temp_pdf)\n\u001B[32m    139\u001B[39m \u001B[38;5;28;01melif\u001B[39;00m \u001B[38;5;129;01mnot\u001B[39;00m os.path.isfile(\u001B[38;5;28mself\u001B[39m.file_path):\n\u001B[32m--> \u001B[39m\u001B[32m140\u001B[39m     \u001B[38;5;28;01mraise\u001B[39;00m \u001B[38;5;167;01mValueError\u001B[39;00m(\u001B[33m\"\u001B[39m\u001B[33mFile path \u001B[39m\u001B[38;5;132;01m%s\u001B[39;00m\u001B[33m is not a valid file or url\u001B[39m\u001B[33m\"\u001B[39m % \u001B[38;5;28mself\u001B[39m.file_path)\n",
      "\u001B[31mValueError\u001B[39m: File path ../content/202408_이력서.pdf is not a valid file or url"
     ]
    }
   ],
   "execution_count": 16
  },
  {
   "metadata": {
    "ExecuteTime": {
     "end_time": "2025-03-04T08:47:46.862244Z",
     "start_time": "2025-03-04T08:47:46.722790Z"
    }
   },
   "cell_type": "code",
   "source": [
    "# vector store\n",
    "# pip install faiss-cpu\n",
    "from langchain.vectorstores import FAISS\n",
    "\n",
    "embeddings_model = OpenAIEmbeddings(model='text-embedding-3-small')\n",
    "\n",
    "# PDF 문서를 여러 청크로 분할\n",
    "text_splitter = RecursiveCharacterTextSplitter(\n",
    "    chunk_size=500,\n",
    "    chunk_overlap=100\n",
    ")\n",
    "\n",
    "texts = text_splitter.split_documents(pages)\n",
    "\n",
    "db = FAISS.from_documents(texts ,embeddings_model)\n",
    "\n",
    "# Retriever 생성\n",
    "retriever = db.as_retriever()\n",
    "query = \"가장 최근 작업이 뭐야?\"\n",
    "#유사 문서 검색\n",
    "result = retriever.invoke(query)\n",
    "content = result.pop().page_content\n",
    "content"
   ],
   "id": "b061d2abe3a32e52",
   "outputs": [
    {
     "ename": "NameError",
     "evalue": "name 'pages' is not defined",
     "output_type": "error",
     "traceback": [
      "\u001B[31m---------------------------------------------------------------------------\u001B[39m",
      "\u001B[31mNameError\u001B[39m                                 Traceback (most recent call last)",
      "\u001B[36mCell\u001B[39m\u001B[36m \u001B[39m\u001B[32mIn[15]\u001B[39m\u001B[32m, line 13\u001B[39m\n\u001B[32m      7\u001B[39m \u001B[38;5;66;03m# PDF 문서를 여러 청크로 분할\u001B[39;00m\n\u001B[32m      8\u001B[39m text_splitter = RecursiveCharacterTextSplitter(\n\u001B[32m      9\u001B[39m     chunk_size=\u001B[32m500\u001B[39m,\n\u001B[32m     10\u001B[39m     chunk_overlap=\u001B[32m100\u001B[39m\n\u001B[32m     11\u001B[39m )\n\u001B[32m---> \u001B[39m\u001B[32m13\u001B[39m texts = text_splitter.split_documents(\u001B[43mpages\u001B[49m)\n\u001B[32m     15\u001B[39m db = FAISS.from_documents(texts ,embeddings_model)\n\u001B[32m     17\u001B[39m \u001B[38;5;66;03m# Retriever 생성\u001B[39;00m\n",
      "\u001B[31mNameError\u001B[39m: name 'pages' is not defined"
     ]
    }
   ],
   "execution_count": 15
  },
  {
   "metadata": {
    "ExecuteTime": {
     "end_time": "2025-03-02T06:50:32.509973Z",
     "start_time": "2025-03-02T06:50:30.148476Z"
    }
   },
   "cell_type": "code",
   "source": [
    "# pdf 내용이 저장된 벡터 스토어에서 조회를 통하여 질문에 답을 해보는 langChain\n",
    "from langchain_openai import ChatOpenAI\n",
    "from langchain import hub # langchain 커뮤니티에서 프롬포트 공유 플랫폼 : 내가 찾고자하는 프롬포트를 검색해서 그대로 pull 해주는 라이브러리\n",
    "from langchain_core.output_parsers import StrOutputParser\n",
    "from langchain_core.runnables import RunnablePassthrough\n",
    "\n",
    "model = ChatOpenAI(model=\"gpt-4o-mini\")\n",
    "prompt = hub.pull(\"rlm/rag-prompt\")\n",
    "\n",
    "\n",
    "def format_docs(docs):\n",
    "    return \"\\n\\n\".join(docs.page_content for docs in docs) # Document 객체에있는 page_content 만 이어붙인다.\n",
    "\n",
    "rag_chain = (\n",
    "    {\"context\" : retriever | format_docs, \"question\" : RunnablePassthrough()}\n",
    "    | prompt\n",
    "    | model\n",
    "    | StrOutputParser()\n",
    ")\n",
    "\n",
    "rag_chain.invoke(\"내 경력에서 자바에서 코틀린 변환 작업에 대해서 설명해줄래?\")\n"
   ],
   "id": "b2234f8edb508c31",
   "outputs": [
    {
     "data": {
      "text/plain": [
       "'지금까지 자바에서 코틀린으로의 변환 작업에 참여한 경험이 있습니다. 이 과정에서 NPE 문제 해결과 함께 코드를 최적화하여 성능 개선을 이루었습니다. 변환된 코드에서 27.7%의 성능 향상을 달성하였습니다.'"
      ]
     },
     "execution_count": 22,
     "metadata": {},
     "output_type": "execute_result"
    }
   ],
   "execution_count": 22
  },
  {
   "metadata": {
    "ExecuteTime": {
     "end_time": "2025-03-03T12:59:56.310875Z",
     "start_time": "2025-03-03T12:59:56.042016Z"
    }
   },
   "cell_type": "code",
   "source": [
    "# langgraph with tool\n",
    "# llm.bind_tools(tool) : 모델이 활용할 수 있는 툴을 바인딩\n",
    "# Conditional edge : tool 필요없이 모델이 직접 답할 수 있는 경우가 있기 때문에 조건에 따라 호출할 수 있도록 한다.\n",
    "from langchain_openai import ChatOpenAI\n",
    "from langchain_core.tools import tool\n",
    "from langchain_core.messages import AIMessage\n",
    "\n",
    "from langgraph.prebuilt import ToolNode\n",
    "\n",
    "\n",
    "@tool # tool ㅇㅣ용할 때 사용하는 데코레이터\n",
    "def get_weather(location :str):\n",
    "    \"\"\"Call to get the weather\"\"\" # 에이전트가 어떤 도구를 사용할 지 선택할 때 사용하는 힌트를 줄 수 있겠지\n",
    "    if location in [\"대구\", \"전주\"]:\n",
    "        return \"ㄷㅓ워 주거요\"\n",
    "    else:\n",
    "        return \"추워 주거요\"\n",
    "\n",
    "\n",
    "@tool\n",
    "def get_coolest_cities():\n",
    "    \"\"\"Call to get the coolest cities\"\"\"\n",
    "    return \"강릉\""
   ],
   "id": "24e48390315484fc",
   "outputs": [],
   "execution_count": 23
  },
  {
   "metadata": {
    "ExecuteTime": {
     "end_time": "2025-03-03T12:59:58.872561Z",
     "start_time": "2025-03-03T12:59:58.868986Z"
    }
   },
   "cell_type": "code",
   "source": [
    "tools = [get_weather, get_coolest_cities]\n",
    "tool_node = ToolNode(tools)"
   ],
   "id": "da275109e2c6605b",
   "outputs": [],
   "execution_count": 24
  },
  {
   "metadata": {
    "ExecuteTime": {
     "end_time": "2025-03-03T13:00:08.975734Z",
     "start_time": "2025-03-03T13:00:08.935355Z"
    }
   },
   "cell_type": "code",
   "source": "model_with_tools = (ChatOpenAI(model=\"gpt-4o-mini\", temperature = 0).bind_tools(tools))",
   "id": "dec9f33981047845",
   "outputs": [],
   "execution_count": 26
  },
  {
   "metadata": {
    "ExecuteTime": {
     "end_time": "2025-03-03T13:00:14.571411Z",
     "start_time": "2025-03-03T13:00:13.060222Z"
    }
   },
   "cell_type": "code",
   "source": "model_with_tools.invoke(\"전주 날씨 알려줄래?\").tool_calls",
   "id": "aa880bae5fb460ff",
   "outputs": [
    {
     "data": {
      "text/plain": [
       "[{'name': 'get_weather',\n",
       "  'args': {'location': '전주'},\n",
       "  'id': 'call_fuoozoj0TyzkTkXHnwDlT8yF',\n",
       "  'type': 'tool_call'}]"
      ]
     },
     "execution_count": 27,
     "metadata": {},
     "output_type": "execute_result"
    }
   ],
   "execution_count": 27
  },
  {
   "metadata": {
    "ExecuteTime": {
     "end_time": "2025-03-03T13:01:25.909550Z",
     "start_time": "2025-03-03T13:01:23.923555Z"
    }
   },
   "cell_type": "code",
   "source": [
    "# 두 개의 도구로 활용 및 답변할 수 없다면, 아무런 답도 없음\n",
    "model_with_tools.invoke(\"이 세상에서 누가 제일 예쁘니?\").tool_calls"
   ],
   "id": "d7e2112858e36b7a",
   "outputs": [
    {
     "data": {
      "text/plain": [
       "[]"
      ]
     },
     "execution_count": 29,
     "metadata": {},
     "output_type": "execute_result"
    }
   ],
   "execution_count": 29
  },
  {
   "metadata": {
    "ExecuteTime": {
     "end_time": "2025-03-03T13:00:31.912951Z",
     "start_time": "2025-03-03T13:00:31.156295Z"
    }
   },
   "cell_type": "code",
   "source": [
    "# 이때 적용되는 get_coolest_cities 함수는 인자로 location 넘겨주지 않기 때문에 args 가 비어있다.\n",
    "model_with_tools.invoke(\"제일 추운 도시는?\").tool_calls"
   ],
   "id": "2960e5cac882fe0c",
   "outputs": [
    {
     "data": {
      "text/plain": [
       "[{'name': 'get_coolest_cities',\n",
       "  'args': {},\n",
       "  'id': 'call_83fUWTr2PAkT9hTE3Wqt0QDJ',\n",
       "  'type': 'tool_call'}]"
      ]
     },
     "execution_count": 28,
     "metadata": {},
     "output_type": "execute_result"
    }
   ],
   "execution_count": 28
  },
  {
   "metadata": {
    "ExecuteTime": {
     "end_time": "2025-03-03T13:04:43.419676Z",
     "start_time": "2025-03-03T13:04:42.671485Z"
    }
   },
   "cell_type": "code",
   "source": [
    "# ai 의 요청을 tool 이 실제로 실행한 결과\n",
    "tool_node.invoke({\"messages\": [model_with_tools.invoke(\"전주 날씨는 어때?\")]})"
   ],
   "id": "3b3a9cd324607b36",
   "outputs": [
    {
     "data": {
      "text/plain": [
       "{'messages': [ToolMessage(content='ㄷㅓ워 주거요', name='get_weather', tool_call_id='call_EtHt5oNARNXdYpJIfpBfjG7G')]}"
      ]
     },
     "execution_count": 30,
     "metadata": {},
     "output_type": "execute_result"
    }
   ],
   "execution_count": 30
  }
 ],
 "metadata": {
  "kernelspec": {
   "display_name": "Python 3",
   "language": "python",
   "name": "python3"
  },
  "language_info": {
   "codemirror_mode": {
    "name": "ipython",
    "version": 2
   },
   "file_extension": ".py",
   "mimetype": "text/x-python",
   "name": "python",
   "nbconvert_exporter": "python",
   "pygments_lexer": "ipython2",
   "version": "2.7.6"
  }
 },
 "nbformat": 4,
 "nbformat_minor": 5
}

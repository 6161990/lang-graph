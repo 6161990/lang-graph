{
 "cells": [
  {
   "metadata": {
    "ExecuteTime": {
     "end_time": "2025-03-02T06:22:25.131801Z",
     "start_time": "2025-03-02T06:22:25.121893Z"
    }
   },
   "cell_type": "code",
   "source": [
    "# API KEY를 환경변수로 관리하기 위한 설정 파일\n",
    "from dotenv import load_dotenv\n",
    "from langchain_community.document_loaders import PyPDFLoader\n",
    "from sympy.physics.units import temperature\n",
    "\n",
    "# API KEY 정보로드\n",
    "load_dotenv()"
   ],
   "id": "b8d283ea3bbe4b46",
   "outputs": [
    {
     "data": {
      "text/plain": [
       "True"
      ]
     },
     "execution_count": 2,
     "metadata": {},
     "output_type": "execute_result"
    }
   ],
   "execution_count": 2
  },
  {
   "metadata": {
    "collapsed": true,
    "ExecuteTime": {
     "end_time": "2025-03-02T06:10:09.731623Z",
     "start_time": "2025-03-02T06:10:08.768128Z"
    }
   },
   "cell_type": "code",
   "source": [
    "# 임베딩 모델로 텍스트 수치화\n",
    "from langchain_openai import OpenAIEmbeddings\n",
    "\n",
    "embeddings_model = OpenAIEmbeddings(model='text-embedding-3-small')\n",
    "embeddings = embeddings_model.embed_documents(\n",
    "    [\"Hi there!\", \"Oh hello!\", \"What's your name?\", \"My friends call me World\",\n",
    "     \"Hello World!\"])\n",
    "\n",
    "len(embeddings), len(embeddings[0]),\n",
    "print(embeddings[0] [: 10])"
   ],
   "id": "initial_id",
   "outputs": [
    {
     "name": "stdout",
     "output_type": "stream",
     "text": [
      "[-0.019139237701892853, -0.03814302384853363, -0.03093702718615532, -0.004656130913645029, -0.03535273298621178, -0.003945012576878071, 0.013010076247155666, 0.05103796720504761, -0.005804079119116068, -0.0371948666870594]\n"
     ]
    }
   ],
   "execution_count": 17
  },
  {
   "metadata": {
    "ExecuteTime": {
     "end_time": "2025-03-02T06:25:47.074117Z",
     "start_time": "2025-03-02T06:25:44.421064Z"
    }
   },
   "cell_type": "code",
   "source": [
    "# pip install pypdf\n",
    "from langchain_openai import OpenAIEmbeddings\n",
    "from langchain_text_splitters import RecursiveCharacterTextSplitter\n",
    "from langchain_community.document_loaders import PyPDFLoader\n",
    "\n",
    "# 임베딩 모델 API 호출\n",
    "embeddings_model = OpenAIEmbeddings(model='text-embedding-3-small')\n",
    "\n",
    "# PDF 문서 로드\n",
    "loader = PyPDFLoader(r\"../content/202408_이력서.pdf\")\n",
    "pages = loader.load()\n",
    "\n",
    "\n",
    "# PDF 문서를 여러 청크로 분할\n",
    "text_splitter = RecursiveCharacterTextSplitter(\n",
    "    chunk_size=500,\n",
    "    chunk_overlap=100\n",
    ")\n",
    "\n",
    "texts = text_splitter.split_documents(pages)\n",
    "\n",
    "# OpenAI 임베딩 모델로 청크들을 임베딩 변환하기\n",
    "embeddings = embeddings_model.embed_documents([i.page_content for i in texts])\n",
    "len(embeddings), len(embeddings[0]),"
   ],
   "id": "84f5d7aded9fbbec",
   "outputs": [
    {
     "data": {
      "text/plain": [
       "(12, 1536)"
      ]
     },
     "execution_count": 7,
     "metadata": {},
     "output_type": "execute_result"
    }
   ],
   "execution_count": 7
  },
  {
   "metadata": {
    "ExecuteTime": {
     "end_time": "2025-03-02T06:39:51.362713Z",
     "start_time": "2025-03-02T06:39:50.114706Z"
    }
   },
   "cell_type": "code",
   "source": [
    "# vector store\n",
    "# pip install faiss-cpu\n",
    "from langchain.vectorstores import FAISS\n",
    "\n",
    "embeddings_model = OpenAIEmbeddings(model='text-embedding-3-small')\n",
    "\n",
    "# PDF 문서를 여러 청크로 분할\n",
    "text_splitter = RecursiveCharacterTextSplitter(\n",
    "    chunk_size=500,\n",
    "    chunk_overlap=100\n",
    ")\n",
    "\n",
    "texts = text_splitter.split_documents(pages)\n",
    "\n",
    "db = FAISS.from_documents(texts ,embeddings_model)\n",
    "\n",
    "# Retriever 생성\n",
    "retriever = db.as_retriever()\n",
    "query = \"가장 최근 작업이 뭐야?\"\n",
    "#유사 문서 검색\n",
    "result = retriever.invoke(query)\n",
    "content = result.pop().page_content\n",
    "content"
   ],
   "id": "b061d2abe3a32e52",
   "outputs": [
    {
     "data": {
      "text/plain": [
       "'JAVA \\n-> \\nkotlin\\n[????]  \\n?? \\n? \\n?? \\n??? \\n?? \\n? \\n??\\n-\\n?? \\n?? \\n???? \\n????? \\n?? \\n??? \\n?????? \\n???? \\n???? \\n?? \\n? \\n?? \\n???? \\n????.\\n-\\n???? \\n?? \\n??????? \\n??? \\n???? \\n?? \\n??? \\n???? \\n??? \\n?? \\n?????.\\n-\\nspringApplicationEvent, \\nkafka \\n? \\n???? \\n???? \\n?? \\n?? \\n??? \\n??? \\n??? \\n?? \\n???.\\n-\\n?? \\n???(??/??)? \\n???? \\n?? \\n?? \\n?? \\n???? \\n????? \\n??? \\n?? \\n?? \\n??? \\n? \\n?? \\n?.\\n-\\n??? \\n?? \\n???? \\n?? \\n??? \\n??? \\n????? \\n?? \\n???? \\n? \\n?? \\n???? \\n?? \\n? \\n???.\\nAggregate \\n???? \\n??? \\n????'"
      ]
     },
     "execution_count": 18,
     "metadata": {},
     "output_type": "execute_result"
    }
   ],
   "execution_count": 18
  },
  {
   "metadata": {
    "ExecuteTime": {
     "end_time": "2025-03-02T06:50:32.509973Z",
     "start_time": "2025-03-02T06:50:30.148476Z"
    }
   },
   "cell_type": "code",
   "source": [
    "# pdf 내용이 저장된 벡터 스토어에서 조회를 통하여 질문에 답을 해보는 langChain\n",
    "from langchain_openai import ChatOpenAI\n",
    "from langchain import hub # langchain 커뮤니티에서 프롬포트 공유 플랫폼 : 내가 찾고자하는 프롬포트를 검색해서 그대로 pull 해주는 라이브러리\n",
    "from langchain_core.output_parsers import StrOutputParser\n",
    "from langchain_core.runnables import RunnablePassthrough\n",
    "\n",
    "model = ChatOpenAI(model=\"gpt-4o-mini\")\n",
    "prompt = hub.pull(\"rlm/rag-prompt\")\n",
    "\n",
    "\n",
    "def format_docs(docs):\n",
    "    return \"\\n\\n\".join(docs.page_content for docs in docs) # Document 객체에있는 page_content 만 이어붙인다.\n",
    "\n",
    "rag_chain = (\n",
    "    {\"context\" : retriever | format_docs, \"question\" : RunnablePassthrough()}\n",
    "    | prompt\n",
    "    | model\n",
    "    | StrOutputParser()\n",
    ")\n",
    "\n",
    "rag_chain.invoke(\"내 경력에서 자바에서 코틀린 변환 작업에 대해서 설명해줄래?\")\n"
   ],
   "id": "b2234f8edb508c31",
   "outputs": [
    {
     "data": {
      "text/plain": [
       "'지금까지 자바에서 코틀린으로의 변환 작업에 참여한 경험이 있습니다. 이 과정에서 NPE 문제 해결과 함께 코드를 최적화하여 성능 개선을 이루었습니다. 변환된 코드에서 27.7%의 성능 향상을 달성하였습니다.'"
      ]
     },
     "execution_count": 22,
     "metadata": {},
     "output_type": "execute_result"
    }
   ],
   "execution_count": 22
  },
  {
   "metadata": {
    "ExecuteTime": {
     "end_time": "2025-03-03T12:59:56.310875Z",
     "start_time": "2025-03-03T12:59:56.042016Z"
    }
   },
   "cell_type": "code",
   "source": [
    "# langgraph with tool\n",
    "# llm.bind_tools(tool) : 모델이 활용할 수 있는 툴을 바인딩\n",
    "# Conditional edge : tool 필요없이 모델이 직접 답할 수 있는 경우가 있기 때문에 조건에 따라 호출할 수 있도록 한다.\n",
    "from langchain_openai import ChatOpenAI\n",
    "from langchain_core.tools import tool\n",
    "from langchain_core.messages import AIMessage\n",
    "\n",
    "from langgraph.prebuilt import ToolNode\n",
    "\n",
    "\n",
    "@tool # tool ㅇㅣ용할 때 사용하는 데코레이터\n",
    "def get_weather(location :str):\n",
    "    \"\"\"Call to get the weather\"\"\" # 에이전트가 어떤 도구를 사용할 지 선택할 때 사용하는 힌트를 줄 수 있겠지\n",
    "    if location in [\"대구\", \"전주\"]:\n",
    "        return \"ㄷㅓ워 주거요\"\n",
    "    else:\n",
    "        return \"추워 주거요\"\n",
    "\n",
    "\n",
    "@tool\n",
    "def get_coolest_cities():\n",
    "    \"\"\"Call to get the coolest cities\"\"\"\n",
    "    return \"강릉\""
   ],
   "id": "24e48390315484fc",
   "outputs": [],
   "execution_count": 23
  },
  {
   "metadata": {
    "ExecuteTime": {
     "end_time": "2025-03-03T12:59:58.872561Z",
     "start_time": "2025-03-03T12:59:58.868986Z"
    }
   },
   "cell_type": "code",
   "source": [
    "tools = [get_weather, get_coolest_cities]\n",
    "tool_node = ToolNode(tools)"
   ],
   "id": "da275109e2c6605b",
   "outputs": [],
   "execution_count": 24
  },
  {
   "metadata": {
    "ExecuteTime": {
     "end_time": "2025-03-03T13:00:08.975734Z",
     "start_time": "2025-03-03T13:00:08.935355Z"
    }
   },
   "cell_type": "code",
   "source": "model_with_tools = (ChatOpenAI(model=\"gpt-4o-mini\", temperature = 0).bind_tools(tools))",
   "id": "dec9f33981047845",
   "outputs": [],
   "execution_count": 26
  },
  {
   "metadata": {
    "ExecuteTime": {
     "end_time": "2025-03-03T13:00:14.571411Z",
     "start_time": "2025-03-03T13:00:13.060222Z"
    }
   },
   "cell_type": "code",
   "source": "model_with_tools.invoke(\"전주 날씨 알려줄래?\").tool_calls",
   "id": "aa880bae5fb460ff",
   "outputs": [
    {
     "data": {
      "text/plain": [
       "[{'name': 'get_weather',\n",
       "  'args': {'location': '전주'},\n",
       "  'id': 'call_fuoozoj0TyzkTkXHnwDlT8yF',\n",
       "  'type': 'tool_call'}]"
      ]
     },
     "execution_count": 27,
     "metadata": {},
     "output_type": "execute_result"
    }
   ],
   "execution_count": 27
  },
  {
   "metadata": {
    "ExecuteTime": {
     "end_time": "2025-03-03T13:01:25.909550Z",
     "start_time": "2025-03-03T13:01:23.923555Z"
    }
   },
   "cell_type": "code",
   "source": [
    "# 두 개의 도구로 활용 및 답변할 수 없다면, 아무런 답도 없음\n",
    "model_with_tools.invoke(\"이 세상에서 누가 제일 예쁘니?\").tool_calls"
   ],
   "id": "d7e2112858e36b7a",
   "outputs": [
    {
     "data": {
      "text/plain": [
       "[]"
      ]
     },
     "execution_count": 29,
     "metadata": {},
     "output_type": "execute_result"
    }
   ],
   "execution_count": 29
  },
  {
   "metadata": {
    "ExecuteTime": {
     "end_time": "2025-03-03T13:00:31.912951Z",
     "start_time": "2025-03-03T13:00:31.156295Z"
    }
   },
   "cell_type": "code",
   "source": [
    "# 이때 적용되는 get_coolest_cities 함수는 인자로 location 넘겨주지 않기 때문에 args 가 비어있다.\n",
    "model_with_tools.invoke(\"제일 추운 도시는?\").tool_calls"
   ],
   "id": "2960e5cac882fe0c",
   "outputs": [
    {
     "data": {
      "text/plain": [
       "[{'name': 'get_coolest_cities',\n",
       "  'args': {},\n",
       "  'id': 'call_83fUWTr2PAkT9hTE3Wqt0QDJ',\n",
       "  'type': 'tool_call'}]"
      ]
     },
     "execution_count": 28,
     "metadata": {},
     "output_type": "execute_result"
    }
   ],
   "execution_count": 28
  },
  {
   "metadata": {
    "ExecuteTime": {
     "end_time": "2025-03-03T13:04:43.419676Z",
     "start_time": "2025-03-03T13:04:42.671485Z"
    }
   },
   "cell_type": "code",
   "source": [
    "# ai 의 요청을 tool 이 실제로 실행한 결과\n",
    "tool_node.invoke({\"messages\": [model_with_tools.invoke(\"전주 날씨는 어때?\")]})"
   ],
   "id": "3b3a9cd324607b36",
   "outputs": [
    {
     "data": {
      "text/plain": [
       "{'messages': [ToolMessage(content='ㄷㅓ워 주거요', name='get_weather', tool_call_id='call_EtHt5oNARNXdYpJIfpBfjG7G')]}"
      ]
     },
     "execution_count": 30,
     "metadata": {},
     "output_type": "execute_result"
    }
   ],
   "execution_count": 30
  }
 ],
 "metadata": {
  "kernelspec": {
   "display_name": "Python 3",
   "language": "python",
   "name": "python3"
  },
  "language_info": {
   "codemirror_mode": {
    "name": "ipython",
    "version": 2
   },
   "file_extension": ".py",
   "mimetype": "text/x-python",
   "name": "python",
   "nbconvert_exporter": "python",
   "pygments_lexer": "ipython2",
   "version": "2.7.6"
  }
 },
 "nbformat": 4,
 "nbformat_minor": 5
}

{
 "cells": [
  {
   "metadata": {
    "ExecuteTime": {
     "end_time": "2025-03-07T03:00:45.380588Z",
     "start_time": "2025-03-07T03:00:45.371421Z"
    }
   },
   "cell_type": "code",
   "source": [
    "# API KEY를 환경변수로 관리하기 위한 설정 파일\n",
    "from dotenv import load_dotenv\n",
    "\n",
    "# API KEY 정보로드\n",
    "load_dotenv()"
   ],
   "id": "b8d283ea3bbe4b46",
   "outputs": [
    {
     "data": {
      "text/plain": [
       "True"
      ]
     },
     "execution_count": 1,
     "metadata": {},
     "output_type": "execute_result"
    }
   ],
   "execution_count": 1
  },
  {
   "metadata": {
    "collapsed": true,
    "ExecuteTime": {
     "end_time": "2025-03-07T03:00:55.781030Z",
     "start_time": "2025-03-07T03:00:52.608015Z"
    }
   },
   "cell_type": "code",
   "source": [
    "# 임베딩 모델로 텍스트 수치화\n",
    "from langchain_openai import OpenAIEmbeddings\n",
    "\n",
    "embeddings_model = OpenAIEmbeddings(model='text-embedding-3-small')\n",
    "embeddings = embeddings_model.embed_documents(\n",
    "    [\"Hi there!\", \"Oh hello!\", \"What's your name?\", \"My friends call me World\", \"Hello World!\"]\n",
    ")\n",
    "\n",
    "len(embeddings), len(embeddings[0]),\n",
    "print(embeddings[0] [: 10])"
   ],
   "id": "initial_id",
   "outputs": [
    {
     "name": "stdout",
     "output_type": "stream",
     "text": [
      "[-0.019139237701892853, -0.03814302384853363, -0.03093702718615532, -0.004656130913645029, -0.03535273298621178, -0.003945012576878071, 0.013010076247155666, 0.05103796720504761, -0.005804079119116068, -0.0371948666870594]\n"
     ]
    }
   ],
   "execution_count": 2
  },
  {
   "metadata": {
    "ExecuteTime": {
     "end_time": "2025-03-07T03:00:57.824978Z",
     "start_time": "2025-03-07T03:00:57.603889Z"
    }
   },
   "cell_type": "code",
   "source": [
    "# pip install pypdf\n",
    "from langchain_openai import OpenAIEmbeddings\n",
    "from langchain_text_splitters import RecursiveCharacterTextSplitter\n",
    "from langchain_community.document_loaders import PyPDFLoader\n",
    "\n",
    "# PDF 문서 로드\n",
    "loader = PyPDFLoader(r\"../content/202408_이력서.pdf\")\n",
    "pages = loader.load()\n",
    "\n",
    "# PDF 문서를 여러 청크로 분할\n",
    "text_splitter = RecursiveCharacterTextSplitter(\n",
    "    chunk_size=500,\n",
    "    chunk_overlap=100\n",
    ")\n",
    "\n",
    "texts = text_splitter.split_documents(pages)\n",
    "\n",
    "# 임베딩 모델 API 호출\n",
    "embeddings_model = OpenAIEmbeddings(model='text-embedding-3-small')\n",
    "\n",
    "# OpenAI 임베딩 모델로 청크들을 임베딩 변환하기\n",
    "embeddings = embeddings_model.embed_documents([i.page_content for i in texts])\n",
    "len(embeddings), len(embeddings[0]),"
   ],
   "id": "84f5d7aded9fbbec",
   "outputs": [
    {
     "ename": "ValueError",
     "evalue": "File path ../content/202408_이력서.pdf is not a valid file or url",
     "output_type": "error",
     "traceback": [
      "\u001B[31m---------------------------------------------------------------------------\u001B[39m",
      "\u001B[31mValueError\u001B[39m                                Traceback (most recent call last)",
      "\u001B[36mCell\u001B[39m\u001B[36m \u001B[39m\u001B[32mIn[3]\u001B[39m\u001B[32m, line 7\u001B[39m\n\u001B[32m      4\u001B[39m \u001B[38;5;28;01mfrom\u001B[39;00m\u001B[38;5;250m \u001B[39m\u001B[34;01mlangchain_community\u001B[39;00m\u001B[34;01m.\u001B[39;00m\u001B[34;01mdocument_loaders\u001B[39;00m\u001B[38;5;250m \u001B[39m\u001B[38;5;28;01mimport\u001B[39;00m PyPDFLoader\n\u001B[32m      6\u001B[39m \u001B[38;5;66;03m# PDF 문서 로드\u001B[39;00m\n\u001B[32m----> \u001B[39m\u001B[32m7\u001B[39m loader = \u001B[43mPyPDFLoader\u001B[49m\u001B[43m(\u001B[49m\u001B[33;43mr\u001B[39;49m\u001B[33;43m\"\u001B[39;49m\u001B[33;43m../content/202408_이력서.pdf\u001B[39;49m\u001B[33;43m\"\u001B[39;49m\u001B[43m)\u001B[49m\n\u001B[32m      8\u001B[39m pages = loader.load()\n\u001B[32m     10\u001B[39m \u001B[38;5;66;03m# PDF 문서를 여러 청크로 분할\u001B[39;00m\n",
      "\u001B[36mFile \u001B[39m\u001B[32m~/6161990/stupid-agent-lang-graph/.venv/lib/python3.11/site-packages/langchain_community/document_loaders/pdf.py:281\u001B[39m, in \u001B[36mPyPDFLoader.__init__\u001B[39m\u001B[34m(self, file_path, password, headers, extract_images, mode, images_parser, images_inner_format, pages_delimiter, extraction_mode, extraction_kwargs)\u001B[39m\n\u001B[32m    238\u001B[39m \u001B[38;5;28;01mdef\u001B[39;00m\u001B[38;5;250m \u001B[39m\u001B[34m__init__\u001B[39m(\n\u001B[32m    239\u001B[39m     \u001B[38;5;28mself\u001B[39m,\n\u001B[32m    240\u001B[39m     file_path: Union[\u001B[38;5;28mstr\u001B[39m, PurePath],\n\u001B[32m   (...)\u001B[39m\u001B[32m    250\u001B[39m     extraction_kwargs: Optional[\u001B[38;5;28mdict\u001B[39m] = \u001B[38;5;28;01mNone\u001B[39;00m,\n\u001B[32m    251\u001B[39m ) -> \u001B[38;5;28;01mNone\u001B[39;00m:\n\u001B[32m    252\u001B[39m \u001B[38;5;250m    \u001B[39m\u001B[33;03m\"\"\"Initialize with a file path.\u001B[39;00m\n\u001B[32m    253\u001B[39m \n\u001B[32m    254\u001B[39m \u001B[33;03m    Args:\u001B[39;00m\n\u001B[32m   (...)\u001B[39m\u001B[32m    279\u001B[39m \u001B[33;03m        `aload` methods to retrieve parsed documents with content and metadata.\u001B[39;00m\n\u001B[32m    280\u001B[39m \u001B[33;03m    \"\"\"\u001B[39;00m\n\u001B[32m--> \u001B[39m\u001B[32m281\u001B[39m     \u001B[38;5;28;43msuper\u001B[39;49m\u001B[43m(\u001B[49m\u001B[43m)\u001B[49m\u001B[43m.\u001B[49m\u001B[34;43m__init__\u001B[39;49m\u001B[43m(\u001B[49m\u001B[43mfile_path\u001B[49m\u001B[43m,\u001B[49m\u001B[43m \u001B[49m\u001B[43mheaders\u001B[49m\u001B[43m=\u001B[49m\u001B[43mheaders\u001B[49m\u001B[43m)\u001B[49m\n\u001B[32m    282\u001B[39m     \u001B[38;5;28mself\u001B[39m.parser = PyPDFParser(\n\u001B[32m    283\u001B[39m         password=password,\n\u001B[32m    284\u001B[39m         mode=mode,\n\u001B[32m   (...)\u001B[39m\u001B[32m    290\u001B[39m         extraction_kwargs=extraction_kwargs,\n\u001B[32m    291\u001B[39m     )\n",
      "\u001B[36mFile \u001B[39m\u001B[32m~/6161990/stupid-agent-lang-graph/.venv/lib/python3.11/site-packages/langchain_community/document_loaders/pdf.py:140\u001B[39m, in \u001B[36mBasePDFLoader.__init__\u001B[39m\u001B[34m(self, file_path, headers)\u001B[39m\n\u001B[32m    138\u001B[39m         \u001B[38;5;28mself\u001B[39m.file_path = \u001B[38;5;28mstr\u001B[39m(temp_pdf)\n\u001B[32m    139\u001B[39m \u001B[38;5;28;01melif\u001B[39;00m \u001B[38;5;129;01mnot\u001B[39;00m os.path.isfile(\u001B[38;5;28mself\u001B[39m.file_path):\n\u001B[32m--> \u001B[39m\u001B[32m140\u001B[39m     \u001B[38;5;28;01mraise\u001B[39;00m \u001B[38;5;167;01mValueError\u001B[39;00m(\u001B[33m\"\u001B[39m\u001B[33mFile path \u001B[39m\u001B[38;5;132;01m%s\u001B[39;00m\u001B[33m is not a valid file or url\u001B[39m\u001B[33m\"\u001B[39m % \u001B[38;5;28mself\u001B[39m.file_path)\n",
      "\u001B[31mValueError\u001B[39m: File path ../content/202408_이력서.pdf is not a valid file or url"
     ]
    }
   ],
   "execution_count": 3
  },
  {
   "metadata": {
    "ExecuteTime": {
     "end_time": "2025-03-04T08:47:46.862244Z",
     "start_time": "2025-03-04T08:47:46.722790Z"
    }
   },
   "cell_type": "code",
   "source": [
    "# vector store\n",
    "# pip install faiss-cpu\n",
    "from langchain.vectorstores import FAISS\n",
    "\n",
    "embeddings_model = OpenAIEmbeddings(model='text-embedding-3-small')\n",
    "\n",
    "# PDF 문서를 여러 청크로 분할\n",
    "text_splitter = RecursiveCharacterTextSplitter(\n",
    "    chunk_size=500,\n",
    "    chunk_overlap=100\n",
    ")\n",
    "\n",
    "texts = text_splitter.split_documents(pages)\n",
    "\n",
    "db = FAISS.from_documents(texts ,embeddings_model)\n",
    "\n",
    "# Retriever 생성\n",
    "retriever = db.as_retriever()\n",
    "query = \"가장 최근 작업이 뭐야?\"\n",
    "#유사 문서 검색\n",
    "result = retriever.invoke(query)\n",
    "content = result.pop().page_content\n",
    "content"
   ],
   "id": "b061d2abe3a32e52",
   "outputs": [
    {
     "ename": "NameError",
     "evalue": "name 'pages' is not defined",
     "output_type": "error",
     "traceback": [
      "\u001B[31m---------------------------------------------------------------------------\u001B[39m",
      "\u001B[31mNameError\u001B[39m                                 Traceback (most recent call last)",
      "\u001B[36mCell\u001B[39m\u001B[36m \u001B[39m\u001B[32mIn[15]\u001B[39m\u001B[32m, line 13\u001B[39m\n\u001B[32m      7\u001B[39m \u001B[38;5;66;03m# PDF 문서를 여러 청크로 분할\u001B[39;00m\n\u001B[32m      8\u001B[39m text_splitter = RecursiveCharacterTextSplitter(\n\u001B[32m      9\u001B[39m     chunk_size=\u001B[32m500\u001B[39m,\n\u001B[32m     10\u001B[39m     chunk_overlap=\u001B[32m100\u001B[39m\n\u001B[32m     11\u001B[39m )\n\u001B[32m---> \u001B[39m\u001B[32m13\u001B[39m texts = text_splitter.split_documents(\u001B[43mpages\u001B[49m)\n\u001B[32m     15\u001B[39m db = FAISS.from_documents(texts ,embeddings_model)\n\u001B[32m     17\u001B[39m \u001B[38;5;66;03m# Retriever 생성\u001B[39;00m\n",
      "\u001B[31mNameError\u001B[39m: name 'pages' is not defined"
     ]
    }
   ],
   "execution_count": 15
  },
  {
   "metadata": {
    "ExecuteTime": {
     "end_time": "2025-03-02T06:50:32.509973Z",
     "start_time": "2025-03-02T06:50:30.148476Z"
    }
   },
   "cell_type": "code",
   "source": [
    "# pdf 내용이 저장된 벡터 스토어에서 조회를 통하여 질문에 답을 해보는 langChain\n",
    "from langchain_openai import ChatOpenAI\n",
    "from langchain import hub # langchain 커뮤니티에서 프롬포트 공유 플랫폼 : 내가 찾고자하는 프롬포트를 검색해서 그대로 pull 해주는 라이브러리\n",
    "from langchain_core.output_parsers import StrOutputParser\n",
    "from langchain_core.runnables import RunnablePassthrough\n",
    "\n",
    "model = ChatOpenAI(model=\"gpt-4o-mini\")\n",
    "prompt = hub.pull(\"rlm/rag-prompt\")\n",
    "\n",
    "\n",
    "def format_docs(docs):\n",
    "    return \"\\n\\n\".join(docs.page_content for docs in docs) # Document 객체에있는 page_content 만 이어붙인다.\n",
    "\n",
    "rag_chain = (\n",
    "    {\"context\" : retriever | format_docs, \"question\" : RunnablePassthrough()}\n",
    "    | prompt\n",
    "    | model\n",
    "    | StrOutputParser()\n",
    ")\n",
    "\n",
    "rag_chain.invoke(\"내 경력에서 자바에서 코틀린 변환 작업에 대해서 설명해줄래?\")\n"
   ],
   "id": "b2234f8edb508c31",
   "outputs": [
    {
     "data": {
      "text/plain": [
       "'지금까지 자바에서 코틀린으로의 변환 작업에 참여한 경험이 있습니다. 이 과정에서 NPE 문제 해결과 함께 코드를 최적화하여 성능 개선을 이루었습니다. 변환된 코드에서 27.7%의 성능 향상을 달성하였습니다.'"
      ]
     },
     "execution_count": 22,
     "metadata": {},
     "output_type": "execute_result"
    }
   ],
   "execution_count": 22
  },
  {
   "metadata": {
    "ExecuteTime": {
     "end_time": "2025-03-07T03:05:03.229708Z",
     "start_time": "2025-03-07T03:05:02.921571Z"
    }
   },
   "cell_type": "code",
   "source": [
    "# langgraph with tool\n",
    "# llm.bind_tools(tool) : 모델이 활용할 수 있는 툴을 바인딩\n",
    "# Conditional edge : tool 필요없이 모델이 직접 답할 수 있는 경우가 있기 때문에 조건에 따라 호출할 수 있도록 한다.\n",
    "from langchain_openai import ChatOpenAI\n",
    "from langchain_core.tools import tool\n",
    "from langchain_core.messages import AIMessage\n",
    "\n",
    "from langgraph.prebuilt import ToolNode\n",
    "\n",
    "# 툴을 정의하기\n",
    "@tool # tool ㅇㅣ용할 때 사용하는 데코레이터\n",
    "def get_weather(location :str):\n",
    "    \"\"\"Call to get the weather\"\"\" # 에이전트가 어떤 도구를 사용할 지 선택할 때 사용하는 힌트를 줄 수 있겠지\n",
    "    if location in [\"대구\", \"전주\"]:\n",
    "        return \"ㄷㅓ워 주거요\"\n",
    "    else:\n",
    "        return \"추워 주거요\"\n",
    "\n",
    "\n",
    "@tool\n",
    "def get_coolest_cities():\n",
    "    \"\"\"Call to get the coolest cities\"\"\"\n",
    "    return \"강릉\""
   ],
   "id": "24e48390315484fc",
   "outputs": [],
   "execution_count": 4
  },
  {
   "metadata": {
    "ExecuteTime": {
     "end_time": "2025-03-07T03:05:05.177740Z",
     "start_time": "2025-03-07T03:05:05.174808Z"
    }
   },
   "cell_type": "code",
   "source": [
    "# 툴 노드 세팅\n",
    "tools = [get_weather, get_coolest_cities]\n",
    "tool_node = ToolNode(tools)"
   ],
   "id": "da275109e2c6605b",
   "outputs": [],
   "execution_count": 5
  },
  {
   "metadata": {
    "ExecuteTime": {
     "end_time": "2025-03-07T03:05:07.111983Z",
     "start_time": "2025-03-07T03:05:07.090636Z"
    }
   },
   "cell_type": "code",
   "source": [
    "# 모델이 툴 바인딩\n",
    "model_with_tools = (ChatOpenAI(model=\"gpt-4o-mini\", temperature = 0).bind_tools(tools))"
   ],
   "id": "dec9f33981047845",
   "outputs": [],
   "execution_count": 6
  },
  {
   "metadata": {
    "ExecuteTime": {
     "end_time": "2025-03-07T07:17:32.917746Z",
     "start_time": "2025-03-07T07:17:31.042129Z"
    }
   },
   "cell_type": "code",
   "source": [
    "# 모델에 질문하기\n",
    "model_with_tools.invoke(\"전주 날씨 알려줄래?\").tool_calls"
   ],
   "id": "aa880bae5fb460ff",
   "outputs": [
    {
     "data": {
      "text/plain": [
       "[{'name': 'get_weather',\n",
       "  'args': {'location': '전주'},\n",
       "  'id': 'call_ggOiyeRAAkgs9mnfMTUzJi7H',\n",
       "  'type': 'tool_call'}]"
      ]
     },
     "execution_count": 16,
     "metadata": {},
     "output_type": "execute_result"
    }
   ],
   "execution_count": 16
  },
  {
   "metadata": {
    "ExecuteTime": {
     "end_time": "2025-03-07T03:05:13.027694Z",
     "start_time": "2025-03-07T03:05:11.711212Z"
    }
   },
   "cell_type": "code",
   "source": [
    "# 두 개의 도구로 활용 및 답변할 수 없다면, 아무런 답도 없음\n",
    "model_with_tools.invoke(\"이 세상에서 누가 제일 예쁘니?\").tool_calls"
   ],
   "id": "d7e2112858e36b7a",
   "outputs": [
    {
     "data": {
      "text/plain": [
       "[]"
      ]
     },
     "execution_count": 8,
     "metadata": {},
     "output_type": "execute_result"
    }
   ],
   "execution_count": 8
  },
  {
   "metadata": {
    "ExecuteTime": {
     "end_time": "2025-03-07T03:05:15.589055Z",
     "start_time": "2025-03-07T03:05:14.840079Z"
    }
   },
   "cell_type": "code",
   "source": [
    "# 이때 적용되는 get_coolest_cities 함수는 인자로 location 넘겨주지 않기 때문에 args 가 비어있다.\n",
    "model_with_tools.invoke(\"제일 추운 도시는?\").tool_calls"
   ],
   "id": "2960e5cac882fe0c",
   "outputs": [
    {
     "data": {
      "text/plain": [
       "[{'name': 'get_coolest_cities',\n",
       "  'args': {},\n",
       "  'id': 'call_ku3XrecznbbMbXLbyCgtJccB',\n",
       "  'type': 'tool_call'}]"
      ]
     },
     "execution_count": 9,
     "metadata": {},
     "output_type": "execute_result"
    }
   ],
   "execution_count": 9
  },
  {
   "metadata": {
    "ExecuteTime": {
     "end_time": "2025-03-07T07:18:04.157569Z",
     "start_time": "2025-03-07T07:18:03.361086Z"
    }
   },
   "cell_type": "code",
   "source": [
    "# ai 의 요청을 tool 이 실제로 실행한 결과\n",
    "tool_node.invoke({\"messages\": [model_with_tools.invoke(\"전주 날씨는 어때?\")]})"
   ],
   "id": "3b3a9cd324607b36",
   "outputs": [
    {
     "data": {
      "text/plain": [
       "{'messages': [ToolMessage(content='ㄷㅓ워 주거요', name='get_weather', tool_call_id='call_3giUWyRGIjTZoVRz5pwzYPud')]}"
      ]
     },
     "execution_count": 17,
     "metadata": {},
     "output_type": "execute_result"
    }
   ],
   "execution_count": 17
  },
  {
   "metadata": {
    "ExecuteTime": {
     "end_time": "2025-03-07T07:26:25.684725Z",
     "start_time": "2025-03-07T07:26:25.678518Z"
    }
   },
   "cell_type": "code",
   "source": [
    "from typing import Annotated, Literal, TypedDict\n",
    "from langchain_core.messages import HumanMessage\n",
    "from langgraph.graph import END, START, StateGraph, MessagesState\n",
    "\n",
    "# 아래 conditional_edge 는 should_continue 라는 함수에 따라 agent 노드에서 tool 혹은 end로 진입시킵니다.\n",
    "def should_continue(state: MessagesState) -> Literal[\"tools\", END]:\n",
    "    messages = state['messages']\n",
    "    last_message = messages[-1]\n",
    "    # If the LLM makes a tool call, then we route to the \"tools\" node\n",
    "    if last_message.tool_calls: # 질문이 도구를 불러야되는 거였다면\n",
    "        return \"tools\"\n",
    "    # Otherwise, we stop (reply to the user)\n",
    "    return END\n",
    "\n",
    "def call_model(state: MessagesState):\n",
    "    messages = state['messages']\n",
    "    response = model_with_tools.invoke(messages)\n",
    "    return {\"messages\": [response]}\n",
    "\n",
    "\n",
    "workflow = StateGraph(MessagesState)\n",
    "\n",
    "workflow.add_node(\"agent\", call_model) #model 이 실행하는 함수\n",
    "workflow.add_node(\"tools\", tool_node)\n",
    "\n",
    "workflow.add_edge(START, \"agent\")\n",
    "\n",
    "# add_conditional_edges는 조건부 엣지 추가 함수\n",
    "workflow.add_conditional_edges(\n",
    "    \"agent\", # 시작점\n",
    "    should_continue, #시작점의 응답으로 호출할 함수\n",
    ")\n",
    "\n",
    "workflow.add_edge(\"tools\", 'agent')\n",
    "\n",
    "app = workflow.compile()"
   ],
   "id": "f97eea9d3d12823e",
   "outputs": [],
   "execution_count": 22
  },
  {
   "metadata": {
    "ExecuteTime": {
     "end_time": "2025-03-07T07:21:16.880049Z",
     "start_time": "2025-03-07T07:21:14.307755Z"
    }
   },
   "cell_type": "code",
   "source": [
    "final_state = app.invoke(\n",
    "    {\"messages\": [HumanMessage(content=\"전주의 날씨는 어때?\")]}\n",
    ")\n",
    "final_state[\"messages\"][-1].content"
   ],
   "id": "71b25ab6e5a37a6",
   "outputs": [
    {
     "data": {
      "text/plain": [
       "'전주의 날씨는 덥습니다. 더 구체적인 정보가 필요하시면 말씀해 주세요!'"
      ]
     },
     "execution_count": 20,
     "metadata": {},
     "output_type": "execute_result"
    }
   ],
   "execution_count": 20
  },
  {
   "metadata": {
    "ExecuteTime": {
     "end_time": "2025-03-07T07:21:40.588374Z",
     "start_time": "2025-03-07T07:21:36.587182Z"
    }
   },
   "cell_type": "code",
   "source": [
    "# example with a multiple tool calls in succession\n",
    "\n",
    "for chunk in app.stream(\n",
    "    {\"messages\": [(\"human\", \"가장 추운 도시의 날씨는 어때?\")]},\n",
    "    stream_mode=\"values\",\n",
    "):\n",
    "    chunk[\"messages\"][-1].pretty_print()"
   ],
   "id": "e0730ee3f98b07f6",
   "outputs": [
    {
     "name": "stdout",
     "output_type": "stream",
     "text": [
      "================================\u001B[1m Human Message \u001B[0m=================================\n",
      "\n",
      "가장 추운 도시의 날씨는 어때?\n",
      "==================================\u001B[1m Ai Message \u001B[0m==================================\n",
      "Tool Calls:\n",
      "  get_coolest_cities (call_Da0VJSmdDf1wESW7UfPNjtZI)\n",
      " Call ID: call_Da0VJSmdDf1wESW7UfPNjtZI\n",
      "  Args:\n",
      "=================================\u001B[1m Tool Message \u001B[0m=================================\n",
      "Name: get_coolest_cities\n",
      "\n",
      "강릉\n",
      "==================================\u001B[1m Ai Message \u001B[0m==================================\n",
      "Tool Calls:\n",
      "  get_weather (call_gnzL8Z5nnqw3ANJnykvCtauq)\n",
      " Call ID: call_gnzL8Z5nnqw3ANJnykvCtauq\n",
      "  Args:\n",
      "    location: 강릉\n",
      "=================================\u001B[1m Tool Message \u001B[0m=================================\n",
      "Name: get_weather\n",
      "\n",
      "추워 주거요\n",
      "==================================\u001B[1m Ai Message \u001B[0m==================================\n",
      "\n",
      "강릉의 날씨는 매우 춥습니다. 추가적인 정보가 필요하시면 말씀해 주세요!\n"
     ]
    }
   ],
   "execution_count": 21
  }
 ],
 "metadata": {
  "kernelspec": {
   "display_name": "Python 3",
   "language": "python",
   "name": "python3"
  },
  "language_info": {
   "codemirror_mode": {
    "name": "ipython",
    "version": 2
   },
   "file_extension": ".py",
   "mimetype": "text/x-python",
   "name": "python",
   "nbconvert_exporter": "python",
   "pygments_lexer": "ipython2",
   "version": "2.7.6"
  }
 },
 "nbformat": 4,
 "nbformat_minor": 5
}

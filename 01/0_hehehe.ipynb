{
 "cells": [
  {
   "cell_type": "code",
   "id": "initial_id",
   "metadata": {
    "collapsed": true,
    "ExecuteTime": {
     "end_time": "2025-02-28T10:59:32.353384Z",
     "start_time": "2025-02-28T10:59:32.341633Z"
    }
   },
   "source": [
    "# API KEY를 환경변수로 관리하기 위한 설정 파일\n",
    "from dotenv import load_dotenv\n",
    "from sympy import content\n",
    "\n",
    "# API KEY 정보로드\n",
    "load_dotenv()"
   ],
   "outputs": [
    {
     "data": {
      "text/plain": [
       "True"
      ]
     },
     "execution_count": 1,
     "metadata": {},
     "output_type": "execute_result"
    }
   ],
   "execution_count": 1
  },
  {
   "metadata": {
    "ExecuteTime": {
     "end_time": "2025-02-28T11:00:02.214881Z",
     "start_time": "2025-02-28T10:59:59.864321Z"
    }
   },
   "cell_type": "code",
   "source": [
    "# LCEL for chain\n",
    "from langchain_core.output_parsers import StrOutputParser\n",
    "from langchain_core.prompts import ChatPromptTemplate, HumanMessagePromptTemplate\n",
    "from langchain_openai import ChatOpenAI\n",
    "\n",
    "prompt = ChatPromptTemplate.from_template(\"tell me a short joke about {topic}\")\n",
    "\n",
    "model = ChatOpenAI(\n",
    "    model=\"gpt-4o-mini\"\n",
    ")\n",
    "\n",
    "# StrOutputParser() ai 의 응답을 내용만 봅아서 볼 수 있음. 원래는 메타 데이터도 포함됨.\n",
    "chain = prompt | model | StrOutputParser()\n",
    "\n",
    "print(f\"[답변]: {chain.invoke({'topic': 'ice cream'})}\")\n",
    "\n"
   ],
   "id": "2f102da50882e71e",
   "outputs": [
    {
     "name": "stdout",
     "output_type": "stream",
     "text": [
      "[답변]: What did the ice cream cone say to the refrigerator?  \n",
      "\n",
      "\"Stop looking at me, I'm just trying to chill!\"\n"
     ]
    }
   ],
   "execution_count": 3
  },
  {
   "metadata": {
    "ExecuteTime": {
     "end_time": "2025-02-28T11:00:05.081522Z",
     "start_time": "2025-02-28T11:00:03.673421Z"
    }
   },
   "cell_type": "code",
   "source": [
    "# chain 의 stream 기능 써보기\n",
    "model = ChatOpenAI(\n",
    "    model=\"gpt-4o-mini\"\n",
    ")\n",
    "\n",
    "prompt = ChatPromptTemplate.from_template(\"tell me a short joke about {topic}\")\n",
    "\n",
    "chain = prompt | model\n",
    "\n",
    "for s in chain.stream({\"topic\": \"ice cream\"}):\n",
    "    print(s.content, end=\"\", flush=True)"
   ],
   "id": "7a35f55b517330ba",
   "outputs": [
    {
     "name": "stdout",
     "output_type": "stream",
     "text": [
      "What did the ice cream say to the cake? \n",
      "\n",
      "\"You're so sweet, but I’m just chilling!\" 🍦🍰"
     ]
    }
   ],
   "execution_count": 4
  },
  {
   "metadata": {},
   "cell_type": "markdown",
   "source": [
    "\n",
    "Stream 사용 이유\n",
    "* 빠른 응답 제공: 전체 응답이 생성될 때까지 기다릴 필요 없이, 한 토큰씩 받아볼 수 있음.\n",
    "* 실시간 처리 가능: UI에서 점진적으로 텍스트를 표시하거나, 스트림 데이터를 다른 곳에서 활용할 수 있음.\n",
    "* 메모리 효율성: 한 번에 모든 데이터를 로드하지 않기 때문에 메모리 부담이 줄어듦."
   ],
   "id": "67eb4977cb6bbd4"
  },
  {
   "metadata": {
    "ExecuteTime": {
     "end_time": "2025-02-28T11:06:23.432613Z",
     "start_time": "2025-02-28T11:06:20.906232Z"
    }
   },
   "cell_type": "code",
   "source": [
    "from langchain_core.messages import SystemMessage\n",
    "from langchain_core.prompts import ChatPromptTemplate, HumanMessagePromptTemplate\n",
    "\n",
    "chat_template = ChatPromptTemplate.from_messages(\n",
    "    [\n",
    "        SystemMessage(\n",
    "            content=(\n",
    "                \"너는 소설 전문가 AI야. 사용자가 원하는 장르의 영화를 리스트 형태로 추천해줘.\"\n",
    "                         'ex( Query: 현대 문학 소설 5개 추천해줘 / 답변: [\"aa\", \"ee\", \"ee2\"]'\n",
    "            )\n",
    "        ),\n",
    "        HumanMessagePromptTemplate.from_template(\"{text}\"),\n",
    "    ]\n",
    ")\n",
    "\n",
    "model = ChatOpenAI(model=\"gpt-4o-mini\")\n",
    "chain = chat_template | model\n",
    "chain.invoke(\"사회\")"
   ],
   "id": "2c275514edc70ae6",
   "outputs": [
    {
     "data": {
      "text/plain": [
       "AIMessage(content='사회 관련 소설 5개 추천해드릴게요:\\n\\n1. \"1984\" - 조지 오웰\\n2. \"브레이브 뉴 월드\" - 올더스 헉슬리\\n3. \"민족의 상처\" - 하정우\\n4. \"지상의 노래\" - 박완서\\n5. \"신의 탑\" - SIU (웹툰)\\n\\n이 소설들은 사회 구조와 인간의 갈등, 그리고 사회의 본질을 탐구하는 내용을 담고 있습니다.', additional_kwargs={'refusal': None}, response_metadata={'token_usage': {'completion_tokens': 116, 'prompt_tokens': 63, 'total_tokens': 179, 'completion_tokens_details': {'accepted_prediction_tokens': 0, 'audio_tokens': 0, 'reasoning_tokens': 0, 'rejected_prediction_tokens': 0}, 'prompt_tokens_details': {'audio_tokens': 0, 'cached_tokens': 0}}, 'model_name': 'gpt-4o-mini-2024-07-18', 'system_fingerprint': 'fp_06737a9306', 'finish_reason': 'stop', 'logprobs': None}, id='run-fc0b785a-3ef2-4971-aafa-8fdd0d6b5bf9-0', usage_metadata={'input_tokens': 63, 'output_tokens': 116, 'total_tokens': 179, 'input_token_details': {'audio': 0, 'cache_read': 0}, 'output_token_details': {'audio': 0, 'reasoning': 0}})"
      ]
     },
     "execution_count": 6,
     "metadata": {},
     "output_type": "execute_result"
    }
   ],
   "execution_count": 6
  },
  {
   "metadata": {
    "ExecuteTime": {
     "end_time": "2025-02-28T11:15:22.921123Z",
     "start_time": "2025-02-28T11:15:22.026593Z"
    }
   },
   "cell_type": "code",
   "source": [
    "# 부분적으로 프롬포트에 미리 넣어두고 싶은 부분이 있다면?\n",
    "from langchain_core.prompts import PromptTemplate\n",
    "from langchain.output_parsers import CommaSeparatedListOutputParser\n",
    "\n",
    "# parser 선언\n",
    "output_parser = CommaSeparatedListOutputParser()\n",
    "\n",
    "# csv 파서 작동을 위한 형식 지정 프롬프트 로드\n",
    "format_instructions = output_parser.get_format_instructions()\n",
    "\n",
    "# 프롬포트 템플릿의 partial_variables 에 csv 형식 지정 프롬포트 주입\n",
    "prompt = PromptTemplate(template=\"List {subject}. {format_instructions}\", input_variables=[\"subject\"],\n",
    "                          partial_variables={\"format_instructions\": format_instructions}, )\n",
    "\n",
    "model = ChatOpenAI(model=\"gpt-4o-mini\")\n",
    "chain = prompt | model | output_parser\n",
    "chain.invoke({\"subject\":\"한국 현대 문학\"})\n",
    "\n"
   ],
   "id": "b0280a066caadf6f",
   "outputs": [
    {
     "data": {
      "text/plain": [
       "['김영하', '한강', '박완서', '윤고은', '백수린', '조남주', '김숨', '황정은', '정세랑', '손보미']"
      ]
     },
     "execution_count": 8,
     "metadata": {},
     "output_type": "execute_result"
    }
   ],
   "execution_count": 8
  }
 ],
 "metadata": {
  "kernelspec": {
   "display_name": "Python 3",
   "language": "python",
   "name": "python3"
  },
  "language_info": {
   "codemirror_mode": {
    "name": "ipython",
    "version": 2
   },
   "file_extension": ".py",
   "mimetype": "text/x-python",
   "name": "python",
   "nbconvert_exporter": "python",
   "pygments_lexer": "ipython2",
   "version": "2.7.6"
  }
 },
 "nbformat": 4,
 "nbformat_minor": 5
}
